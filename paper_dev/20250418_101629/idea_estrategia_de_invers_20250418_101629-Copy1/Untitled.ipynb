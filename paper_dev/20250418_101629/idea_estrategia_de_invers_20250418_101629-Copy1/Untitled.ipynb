{
 "cells": [
  {
   "cell_type": "code",
   "execution_count": null,
   "id": "16b8923d-1e64-4231-9b46-945fd93271f1",
   "metadata": {},
   "outputs": [
    {
     "name": "stderr",
     "output_type": "stream",
     "text": [
      "[*********************100%***********************]  503 of 503 completed\n"
     ]
    },
    {
     "name": "stdout",
     "output_type": "stream",
     "text": [
      "Datos cargados exitosamente. 472 símbolos, 2315 días de trading.\n",
      "En promedio, 99.9% de los activos son negociables.\n",
      "En promedio, 99.9% de los activos son susceptibles de posiciones cortas.\n"
     ]
    },
    {
     "name": "stderr",
     "output_type": "stream",
     "text": [
      "  0%|▎                                                                                        | 6/2126 [12:45<72:25:21, 122.98s/it]"
     ]
    },
    {
     "name": "stdout",
     "output_type": "stream",
     "text": [
      "Rebalanceo por cambio de régimen: 3 -> 0\n"
     ]
    },
    {
     "name": "stderr",
     "output_type": "stream",
     "text": [
      "  1%|▍                                                                                        | 11/2126 [14:44<39:50:30, 67.82s/it]"
     ]
    },
    {
     "name": "stdout",
     "output_type": "stream",
     "text": [
      "AVISO: Apalancamiento corregido de 2.86 a 1.50\n"
     ]
    },
    {
     "name": "stderr",
     "output_type": "stream",
     "text": [
      "  1%|▋                                                                                        | 16/2126 [17:17<30:05:35, 51.34s/it]"
     ]
    },
    {
     "name": "stdout",
     "output_type": "stream",
     "text": [
      "AVISO: Apalancamiento corregido de 3.67 a 1.50\n"
     ]
    },
    {
     "name": "stderr",
     "output_type": "stream",
     "text": [
      "  1%|▉                                                                                        | 21/2126 [19:06<23:18:48, 39.87s/it]"
     ]
    },
    {
     "name": "stdout",
     "output_type": "stream",
     "text": [
      "AVISO: Apalancamiento corregido de 3.95 a 1.50\n"
     ]
    },
    {
     "name": "stderr",
     "output_type": "stream",
     "text": [
      "  1%|█                                                                                        | 26/2126 [20:33<18:35:47, 31.88s/it]"
     ]
    },
    {
     "name": "stdout",
     "output_type": "stream",
     "text": [
      "AVISO: Apalancamiento corregido de 5.46 a 1.50\n"
     ]
    },
    {
     "name": "stderr",
     "output_type": "stream",
     "text": [
      "  1%|█▎                                                                                       | 31/2126 [22:11<16:10:13, 27.79s/it]"
     ]
    },
    {
     "name": "stdout",
     "output_type": "stream",
     "text": [
      "AVISO: Apalancamiento corregido de 4.35 a 1.50\n"
     ]
    },
    {
     "name": "stderr",
     "output_type": "stream",
     "text": [
      "  2%|█▌                                                                                       | 36/2126 [24:48<16:48:33, 28.95s/it]"
     ]
    },
    {
     "name": "stdout",
     "output_type": "stream",
     "text": [
      "AVISO: Apalancamiento corregido de 2.54 a 1.50\n"
     ]
    },
    {
     "name": "stderr",
     "output_type": "stream",
     "text": [
      "  2%|█▋                                                                                       | 41/2126 [29:54<22:39:49, 39.13s/it]"
     ]
    },
    {
     "name": "stdout",
     "output_type": "stream",
     "text": [
      "AVISO: Apalancamiento corregido de 1.79 a 1.50\n"
     ]
    },
    {
     "name": "stderr",
     "output_type": "stream",
     "text": [
      "  2%|█▉                                                                                       | 46/2126 [31:41<19:26:49, 33.66s/it]"
     ]
    },
    {
     "name": "stdout",
     "output_type": "stream",
     "text": [
      "AVISO: Apalancamiento corregido de 1.51 a 1.50\n"
     ]
    },
    {
     "name": "stderr",
     "output_type": "stream",
     "text": [
      "  3%|██▌                                                                                      | 61/2126 [47:05<33:24:26, 58.24s/it]"
     ]
    },
    {
     "name": "stdout",
     "output_type": "stream",
     "text": [
      "AVISO: Apalancamiento corregido de 1.80 a 1.50\n"
     ]
    },
    {
     "name": "stderr",
     "output_type": "stream",
     "text": [
      "  3%|██▊                                                                                      | 66/2126 [52:20<34:08:27, 59.66s/it]"
     ]
    },
    {
     "name": "stdout",
     "output_type": "stream",
     "text": [
      "AVISO: Apalancamiento corregido de 2.12 a 1.50\n"
     ]
    },
    {
     "name": "stderr",
     "output_type": "stream",
     "text": [
      "  3%|██▉                                                                                      | 71/2126 [57:51<35:10:49, 61.63s/it]"
     ]
    },
    {
     "name": "stdout",
     "output_type": "stream",
     "text": [
      "AVISO: Apalancamiento corregido de 2.47 a 1.50\n"
     ]
    },
    {
     "name": "stderr",
     "output_type": "stream",
     "text": [
      "  4%|███▏                                                                                     | 76/2126 [59:42<28:20:17, 49.76s/it]"
     ]
    },
    {
     "name": "stdout",
     "output_type": "stream",
     "text": [
      "AVISO: Apalancamiento corregido de 3.32 a 1.50\n",
      "Rebalanceo por cambio de régimen: 0 -> 2\n"
     ]
    },
    {
     "name": "stderr",
     "output_type": "stream",
     "text": [
      "  4%|███▎                                                                                   | 81/2126 [1:02:50<26:11:44, 46.11s/it]"
     ]
    },
    {
     "name": "stdout",
     "output_type": "stream",
     "text": [
      "AVISO: Apalancamiento corregido de 1.81 a 1.50\n"
     ]
    },
    {
     "name": "stderr",
     "output_type": "stream",
     "text": [
      "  5%|████▍                                                                                 | 111/2126 [1:16:48<15:48:41, 28.25s/it]"
     ]
    },
    {
     "name": "stdout",
     "output_type": "stream",
     "text": [
      "Rebalanceo por cambio de régimen: 3 -> 0\n"
     ]
    },
    {
     "name": "stderr",
     "output_type": "stream",
     "text": [
      "  5%|████▋                                                                                 | 116/2126 [1:18:17<14:01:38, 25.12s/it]"
     ]
    },
    {
     "name": "stdout",
     "output_type": "stream",
     "text": [
      "AVISO: Apalancamiento corregido de 2.36 a 1.50\n"
     ]
    },
    {
     "name": "stderr",
     "output_type": "stream",
     "text": [
      "  6%|████▉                                                                                 | 121/2126 [1:25:44<24:44:26, 44.42s/it]"
     ]
    },
    {
     "name": "stdout",
     "output_type": "stream",
     "text": [
      "AVISO: Apalancamiento corregido de 2.79 a 1.50\n"
     ]
    },
    {
     "name": "stderr",
     "output_type": "stream",
     "text": [
      "  6%|█████                                                                                 | 126/2126 [1:27:13<20:14:08, 36.42s/it]"
     ]
    },
    {
     "name": "stdout",
     "output_type": "stream",
     "text": [
      "AVISO: Apalancamiento corregido de 3.43 a 1.50\n"
     ]
    },
    {
     "name": "stderr",
     "output_type": "stream",
     "text": [
      "  6%|█████▎                                                                                | 131/2126 [1:29:22<18:25:24, 33.25s/it]"
     ]
    },
    {
     "name": "stdout",
     "output_type": "stream",
     "text": [
      "AVISO: Apalancamiento corregido de 2.83 a 1.50\n"
     ]
    },
    {
     "name": "stderr",
     "output_type": "stream",
     "text": [
      "  6%|█████▌                                                                                | 136/2126 [1:38:21<30:43:41, 55.59s/it]"
     ]
    },
    {
     "name": "stdout",
     "output_type": "stream",
     "text": [
      "AVISO: Apalancamiento corregido de 2.60 a 1.50\n"
     ]
    },
    {
     "name": "stderr",
     "output_type": "stream",
     "text": [
      "  7%|█████▋                                                                                | 141/2126 [1:40:27<25:37:56, 46.49s/it]"
     ]
    },
    {
     "name": "stdout",
     "output_type": "stream",
     "text": [
      "AVISO: Apalancamiento corregido de 2.83 a 1.50\n"
     ]
    },
    {
     "name": "stderr",
     "output_type": "stream",
     "text": [
      "  7%|█████▉                                                                                | 146/2126 [1:42:45<22:27:18, 40.83s/it]"
     ]
    },
    {
     "name": "stdout",
     "output_type": "stream",
     "text": [
      "AVISO: Apalancamiento corregido de 2.90 a 1.50\n"
     ]
    },
    {
     "name": "stderr",
     "output_type": "stream",
     "text": [
      "  7%|██████                                                                                | 151/2126 [1:45:26<20:57:17, 38.20s/it]"
     ]
    },
    {
     "name": "stdout",
     "output_type": "stream",
     "text": [
      "AVISO: Apalancamiento corregido de 3.20 a 1.50\n"
     ]
    },
    {
     "name": "stderr",
     "output_type": "stream",
     "text": [
      "  7%|██████▎                                                                               | 156/2126 [1:53:25<30:21:11, 55.47s/it]"
     ]
    },
    {
     "name": "stdout",
     "output_type": "stream",
     "text": [
      "AVISO: Apalancamiento corregido de 2.61 a 1.50\n"
     ]
    },
    {
     "name": "stderr",
     "output_type": "stream",
     "text": [
      "  8%|██████▌                                                                               | 161/2126 [2:02:39<39:20:31, 72.08s/it]"
     ]
    },
    {
     "name": "stdout",
     "output_type": "stream",
     "text": [
      "AVISO: Apalancamiento corregido de 2.26 a 1.50\n"
     ]
    },
    {
     "name": "stderr",
     "output_type": "stream",
     "text": [
      "  8%|██████▋                                                                               | 166/2126 [2:10:13<42:18:04, 77.70s/it]"
     ]
    },
    {
     "name": "stdout",
     "output_type": "stream",
     "text": [
      "AVISO: Apalancamiento corregido de 2.01 a 1.50\n"
     ]
    },
    {
     "name": "stderr",
     "output_type": "stream",
     "text": [
      "  8%|██████▉                                                                               | 171/2126 [2:17:52<44:29:36, 81.93s/it]"
     ]
    },
    {
     "name": "stdout",
     "output_type": "stream",
     "text": [
      "AVISO: Apalancamiento corregido de 2.50 a 1.50\n"
     ]
    },
    {
     "name": "stderr",
     "output_type": "stream",
     "text": [
      "  8%|███████                                                                              | 176/2126 [2:30:46<56:14:28, 103.83s/it]"
     ]
    },
    {
     "name": "stdout",
     "output_type": "stream",
     "text": [
      "AVISO: Apalancamiento corregido de 2.34 a 1.50\n"
     ]
    },
    {
     "name": "stderr",
     "output_type": "stream",
     "text": [
      "  9%|███████▏                                                                             | 181/2126 [2:41:54<60:53:59, 112.72s/it]"
     ]
    },
    {
     "name": "stdout",
     "output_type": "stream",
     "text": [
      "AVISO: Apalancamiento corregido de 2.32 a 1.50\n"
     ]
    },
    {
     "name": "stderr",
     "output_type": "stream",
     "text": [
      "  9%|███████▍                                                                             | 186/2126 [2:55:19<68:33:50, 127.23s/it]"
     ]
    },
    {
     "name": "stdout",
     "output_type": "stream",
     "text": [
      "AVISO: Apalancamiento corregido de 2.46 a 1.50\n"
     ]
    },
    {
     "name": "stderr",
     "output_type": "stream",
     "text": [
      "  9%|███████▋                                                                              | 191/2126 [2:58:10<53:22:10, 99.29s/it]"
     ]
    },
    {
     "name": "stdout",
     "output_type": "stream",
     "text": [
      "AVISO: Apalancamiento corregido de 2.15 a 1.50\n"
     ]
    },
    {
     "name": "stderr",
     "output_type": "stream",
     "text": [
      "  9%|███████▊                                                                             | 196/2126 [3:10:23<60:50:15, 113.48s/it]"
     ]
    },
    {
     "name": "stdout",
     "output_type": "stream",
     "text": [
      "AVISO: Apalancamiento corregido de 2.14 a 1.50\n"
     ]
    },
    {
     "name": "stderr",
     "output_type": "stream",
     "text": [
      "  9%|████████                                                                             | 201/2126 [3:21:52<64:36:34, 120.83s/it]"
     ]
    },
    {
     "name": "stdout",
     "output_type": "stream",
     "text": [
      "AVISO: Apalancamiento corregido de 2.09 a 1.50\n"
     ]
    },
    {
     "name": "stderr",
     "output_type": "stream",
     "text": [
      " 10%|████████▏                                                                            | 206/2126 [3:34:37<69:34:12, 130.44s/it]"
     ]
    },
    {
     "name": "stdout",
     "output_type": "stream",
     "text": [
      "AVISO: Apalancamiento corregido de 2.38 a 1.50\n"
     ]
    },
    {
     "name": "stderr",
     "output_type": "stream",
     "text": [
      " 10%|████████▍                                                                            | 211/2126 [3:41:48<62:19:35, 117.17s/it]"
     ]
    },
    {
     "name": "stdout",
     "output_type": "stream",
     "text": [
      "AVISO: Apalancamiento corregido de 2.26 a 1.50\n"
     ]
    },
    {
     "name": "stderr",
     "output_type": "stream",
     "text": [
      " 10%|████████▋                                                                            | 216/2126 [3:51:07<61:19:22, 115.58s/it]"
     ]
    },
    {
     "name": "stdout",
     "output_type": "stream",
     "text": [
      "AVISO: Apalancamiento corregido de 2.73 a 1.50\n"
     ]
    },
    {
     "name": "stderr",
     "output_type": "stream",
     "text": [
      " 10%|████████▊                                                                            | 221/2126 [3:58:46<57:21:48, 108.40s/it]"
     ]
    },
    {
     "name": "stdout",
     "output_type": "stream",
     "text": [
      "AVISO: Apalancamiento corregido de 2.64 a 1.50\n",
      "Rebalanceo por cambio de régimen: 0 -> 3\n"
     ]
    },
    {
     "name": "stderr",
     "output_type": "stream",
     "text": [
      " 12%|██████████▎                                                                           | 256/2126 [4:14:21<19:11:26, 36.94s/it]"
     ]
    },
    {
     "name": "stdout",
     "output_type": "stream",
     "text": [
      "AVISO: Apalancamiento corregido de 1.76 a 1.50\n"
     ]
    },
    {
     "name": "stderr",
     "output_type": "stream",
     "text": [
      " 12%|██████████▌                                                                           | 261/2126 [4:15:57<16:22:00, 31.59s/it]"
     ]
    },
    {
     "name": "stdout",
     "output_type": "stream",
     "text": [
      "AVISO: Apalancamiento corregido de 1.84 a 1.50\n"
     ]
    },
    {
     "name": "stderr",
     "output_type": "stream",
     "text": [
      " 13%|██████████▉                                                                           | 271/2126 [4:21:00<14:40:07, 28.47s/it]"
     ]
    },
    {
     "name": "stdout",
     "output_type": "stream",
     "text": [
      "Rebalanceo por cambio de régimen: 3 -> 0\n"
     ]
    },
    {
     "name": "stderr",
     "output_type": "stream",
     "text": [
      " 13%|███████████▏                                                                          | 276/2126 [4:22:20<12:42:21, 24.73s/it]"
     ]
    },
    {
     "name": "stdout",
     "output_type": "stream",
     "text": [
      "AVISO: Apalancamiento corregido de 3.06 a 1.50\n"
     ]
    },
    {
     "name": "stderr",
     "output_type": "stream",
     "text": [
      " 13%|███████████▎                                                                          | 281/2126 [4:26:01<15:39:25, 30.55s/it]"
     ]
    },
    {
     "name": "stdout",
     "output_type": "stream",
     "text": [
      "AVISO: Apalancamiento corregido de 1.72 a 1.50\n"
     ]
    },
    {
     "name": "stderr",
     "output_type": "stream",
     "text": [
      " 13%|███████████▌                                                                          | 286/2126 [4:27:37<13:52:31, 27.15s/it]"
     ]
    },
    {
     "name": "stdout",
     "output_type": "stream",
     "text": [
      "AVISO: Apalancamiento corregido de 2.12 a 1.50\n",
      "Rebalanceo por cambio de régimen: 1 -> 3\n"
     ]
    },
    {
     "name": "stderr",
     "output_type": "stream",
     "text": [
      " 14%|███████████▉                                                                          | 296/2126 [4:30:35<10:41:36, 21.04s/it]"
     ]
    },
    {
     "name": "stdout",
     "output_type": "stream",
     "text": [
      "Rebalanceo por cambio de régimen: 3 -> 1\n"
     ]
    },
    {
     "name": "stderr",
     "output_type": "stream",
     "text": [
      " 14%|████████████▏                                                                         | 301/2126 [4:32:15<10:29:11, 20.69s/it]"
     ]
    },
    {
     "name": "stdout",
     "output_type": "stream",
     "text": [
      "AVISO: Apalancamiento corregido de 1.96 a 1.50\n"
     ]
    },
    {
     "name": "stderr",
     "output_type": "stream",
     "text": [
      " 14%|████████████▍                                                                         | 306/2126 [4:33:55<10:22:09, 20.51s/it]"
     ]
    },
    {
     "name": "stdout",
     "output_type": "stream",
     "text": [
      "AVISO: Apalancamiento corregido de 2.61 a 1.50\n"
     ]
    },
    {
     "name": "stderr",
     "output_type": "stream",
     "text": [
      " 15%|████████████▉                                                                          | 316/2126 [4:35:09<7:09:22, 14.23s/it]"
     ]
    },
    {
     "name": "stdout",
     "output_type": "stream",
     "text": [
      "AVISO: Apalancamiento corregido de 7.10 a 1.50\n"
     ]
    },
    {
     "name": "stderr",
     "output_type": "stream",
     "text": [
      " 15%|█████████████▎                                                                         | 326/2126 [4:36:29<5:46:40, 11.56s/it]"
     ]
    },
    {
     "name": "stdout",
     "output_type": "stream",
     "text": [
      "AVISO: Apalancamiento corregido de 8.70 a 1.50\n"
     ]
    },
    {
     "name": "stderr",
     "output_type": "stream",
     "text": [
      " 16%|█████████████▉                                                                         | 340/2126 [4:38:06<4:09:45,  8.39s/it]"
     ]
    },
    {
     "name": "stdout",
     "output_type": "stream",
     "text": [
      "AVISO: Apalancamiento corregido de 7.74 a 1.50\n"
     ]
    },
    {
     "name": "stderr",
     "output_type": "stream",
     "text": [
      " 16%|█████████████▉                                                                         | 341/2126 [4:39:46<7:55:34, 15.99s/it]"
     ]
    },
    {
     "name": "stdout",
     "output_type": "stream",
     "text": [
      "AVISO: Apalancamiento corregido de 5.14 a 1.50\n"
     ]
    },
    {
     "name": "stderr",
     "output_type": "stream",
     "text": [
      " 16%|██████████████▏                                                                        | 346/2126 [4:41:20<8:25:05, 17.03s/it]"
     ]
    },
    {
     "name": "stdout",
     "output_type": "stream",
     "text": [
      "AVISO: Apalancamiento corregido de 5.12 a 1.50\n",
      "Rebalanceo por cambio de régimen: 0 -> 4\n"
     ]
    },
    {
     "name": "stderr",
     "output_type": "stream",
     "text": [
      " 17%|██████████████▊                                                                       | 366/2126 [4:51:03<11:20:12, 23.19s/it]"
     ]
    },
    {
     "name": "stdout",
     "output_type": "stream",
     "text": [
      "Rebalanceo por cambio de régimen: 3 -> 0\n"
     ]
    },
    {
     "name": "stderr",
     "output_type": "stream",
     "text": [
      " 17%|███████████████▏                                                                       | 371/2126 [4:52:08<9:45:13, 20.01s/it]"
     ]
    },
    {
     "name": "stdout",
     "output_type": "stream",
     "text": [
      "AVISO: Apalancamiento corregido de 5.18 a 1.50\n"
     ]
    },
    {
     "name": "stderr",
     "output_type": "stream",
     "text": [
      " 18%|███████████████▍                                                                       | 376/2126 [4:53:29<9:09:24, 18.84s/it]"
     ]
    },
    {
     "name": "stdout",
     "output_type": "stream",
     "text": [
      "AVISO: Apalancamiento corregido de 5.33 a 1.50\n"
     ]
    },
    {
     "name": "stderr",
     "output_type": "stream",
     "text": [
      " 18%|███████████████▌                                                                       | 381/2126 [4:55:01<9:03:11, 18.68s/it]"
     ]
    },
    {
     "name": "stdout",
     "output_type": "stream",
     "text": [
      "AVISO: Apalancamiento corregido de 2.48 a 1.50\n"
     ]
    },
    {
     "name": "stderr",
     "output_type": "stream",
     "text": [
      " 18%|███████████████▊                                                                       | 386/2126 [4:56:28<8:51:14, 18.32s/it]"
     ]
    },
    {
     "name": "stdout",
     "output_type": "stream",
     "text": [
      "AVISO: Apalancamiento corregido de 3.74 a 1.50\n",
      "Rebalanceo por cambio de régimen: 0 -> 2\n"
     ]
    },
    {
     "name": "stderr",
     "output_type": "stream",
     "text": [
      " 18%|███████████████▊                                                                      | 391/2126 [4:59:05<10:44:14, 22.28s/it]"
     ]
    },
    {
     "name": "stdout",
     "output_type": "stream",
     "text": [
      "Rebalanceo por cambio de régimen: 2 -> 4\n"
     ]
    },
    {
     "name": "stderr",
     "output_type": "stream",
     "text": [
      " 23%|███████████████████▍                                                                  | 481/2126 [5:45:11<10:45:16, 23.54s/it]"
     ]
    },
    {
     "name": "stdout",
     "output_type": "stream",
     "text": [
      "Rebalanceo por cambio de régimen: 3 -> 1\n"
     ]
    },
    {
     "name": "stderr",
     "output_type": "stream",
     "text": [
      " 23%|███████████████████▋                                                                  | 486/2126 [5:50:16<15:57:21, 35.03s/it]"
     ]
    },
    {
     "name": "stdout",
     "output_type": "stream",
     "text": [
      "AVISO: Apalancamiento corregido de 1.84 a 1.50\n"
     ]
    },
    {
     "name": "stderr",
     "output_type": "stream",
     "text": [
      " 23%|███████████████████▊                                                                  | 491/2126 [5:55:17<19:23:13, 42.69s/it]"
     ]
    },
    {
     "name": "stdout",
     "output_type": "stream",
     "text": [
      "AVISO: Apalancamiento corregido de 2.30 a 1.50\n",
      "Rebalanceo por cambio de régimen: 1 -> 3\n"
     ]
    },
    {
     "name": "stderr",
     "output_type": "stream",
     "text": [
      " 24%|████████████████████▍                                                                 | 506/2126 [6:01:30<14:25:48, 32.07s/it]"
     ]
    },
    {
     "name": "stdout",
     "output_type": "stream",
     "text": [
      "AVISO: Apalancamiento corregido de 2.26 a 1.50\n",
      "Rebalanceo por cambio de régimen: 2 -> 0\n"
     ]
    },
    {
     "name": "stderr",
     "output_type": "stream",
     "text": [
      " 24%|████████████████████▋                                                                 | 511/2126 [6:03:00<12:29:03, 27.83s/it]"
     ]
    },
    {
     "name": "stdout",
     "output_type": "stream",
     "text": [
      "AVISO: Apalancamiento corregido de 4.19 a 1.50\n",
      "Rebalanceo por cambio de régimen: 0 -> 2\n"
     ]
    },
    {
     "name": "stderr",
     "output_type": "stream",
     "text": [
      " 24%|████████████████████▊                                                                 | 516/2126 [6:06:24<14:11:53, 31.75s/it]"
     ]
    },
    {
     "name": "stdout",
     "output_type": "stream",
     "text": [
      "AVISO: Apalancamiento corregido de 1.91 a 1.50\n"
     ]
    },
    {
     "name": "stderr",
     "output_type": "stream",
     "text": [
      " 25%|█████████████████████                                                                 | 521/2126 [6:10:55<17:10:27, 38.52s/it]"
     ]
    },
    {
     "name": "stdout",
     "output_type": "stream",
     "text": [
      "AVISO: Apalancamiento corregido de 1.56 a 1.50\n"
     ]
    },
    {
     "name": "stderr",
     "output_type": "stream",
     "text": [
      " 25%|█████████████████████▎                                                                | 526/2126 [6:12:58<15:15:47, 34.34s/it]"
     ]
    },
    {
     "name": "stdout",
     "output_type": "stream",
     "text": [
      "AVISO: Apalancamiento corregido de 1.62 a 1.50\n"
     ]
    },
    {
     "name": "stderr",
     "output_type": "stream",
     "text": [
      " 25%|█████████████████████▍                                                                | 531/2126 [6:17:09<17:18:19, 39.06s/it]"
     ]
    },
    {
     "name": "stdout",
     "output_type": "stream",
     "text": [
      "AVISO: Apalancamiento corregido de 1.99 a 1.50\n"
     ]
    },
    {
     "name": "stderr",
     "output_type": "stream",
     "text": [
      " 25%|█████████████████████▋                                                                | 536/2126 [6:18:19<13:55:40, 31.53s/it]"
     ]
    },
    {
     "name": "stdout",
     "output_type": "stream",
     "text": [
      "AVISO: Apalancamiento corregido de 3.33 a 1.50\n"
     ]
    },
    {
     "name": "stderr",
     "output_type": "stream",
     "text": [
      " 25%|█████████████████████▉                                                                | 541/2126 [6:19:36<11:46:00, 26.73s/it]"
     ]
    },
    {
     "name": "stdout",
     "output_type": "stream",
     "text": [
      "AVISO: Apalancamiento corregido de 4.10 a 1.50\n"
     ]
    },
    {
     "name": "stderr",
     "output_type": "stream",
     "text": [
      " 26%|██████████████████████                                                                | 546/2126 [6:20:57<10:19:44, 23.53s/it]"
     ]
    },
    {
     "name": "stdout",
     "output_type": "stream",
     "text": [
      "AVISO: Apalancamiento corregido de 4.41 a 1.50\n"
     ]
    },
    {
     "name": "stderr",
     "output_type": "stream",
     "text": [
      " 26%|██████████████████████▌                                                                | 551/2126 [6:22:24<9:30:14, 21.72s/it]"
     ]
    },
    {
     "name": "stdout",
     "output_type": "stream",
     "text": [
      "AVISO: Apalancamiento corregido de 4.69 a 1.50\n"
     ]
    },
    {
     "name": "stderr",
     "output_type": "stream",
     "text": [
      " 26%|██████████████████████▊                                                                | 556/2126 [6:23:45<8:44:34, 20.05s/it]"
     ]
    },
    {
     "name": "stdout",
     "output_type": "stream",
     "text": [
      "AVISO: Apalancamiento corregido de 5.12 a 1.50\n"
     ]
    },
    {
     "name": "stderr",
     "output_type": "stream",
     "text": [
      " 26%|██████████████████████▉                                                                | 561/2126 [6:25:16<8:28:11, 19.48s/it]"
     ]
    },
    {
     "name": "stdout",
     "output_type": "stream",
     "text": [
      "AVISO: Apalancamiento corregido de 4.10 a 1.50\n",
      "Rebalanceo por cambio de régimen: 0 -> 2\n"
     ]
    },
    {
     "name": "stderr",
     "output_type": "stream",
     "text": [
      " 27%|███████████████████████                                                               | 571/2126 [6:32:59<14:56:25, 34.59s/it]"
     ]
    },
    {
     "name": "stdout",
     "output_type": "stream",
     "text": [
      "Rebalanceo por cambio de régimen: 2 -> 4\n"
     ]
    },
    {
     "name": "stderr",
     "output_type": "stream",
     "text": [
      " 31%|██████████████████████████▎                                                           | 651/2126 [7:17:38<10:43:17, 26.17s/it]"
     ]
    },
    {
     "name": "stdout",
     "output_type": "stream",
     "text": [
      "Rebalanceo por cambio de régimen: 3 -> 0\n"
     ]
    },
    {
     "name": "stderr",
     "output_type": "stream",
     "text": [
      " 31%|██████████████████████████▊                                                            | 656/2126 [7:19:15<9:51:59, 24.16s/it]"
     ]
    },
    {
     "name": "stdout",
     "output_type": "stream",
     "text": [
      "AVISO: Apalancamiento corregido de 2.97 a 1.50\n"
     ]
    },
    {
     "name": "stderr",
     "output_type": "stream",
     "text": [
      " 31%|██████████████████████████▋                                                           | 661/2126 [7:24:50<15:02:35, 36.97s/it]"
     ]
    },
    {
     "name": "stdout",
     "output_type": "stream",
     "text": [
      "AVISO: Apalancamiento corregido de 3.06 a 1.50\n"
     ]
    },
    {
     "name": "stderr",
     "output_type": "stream",
     "text": [
      " 31%|██████████████████████████▉                                                           | 666/2126 [7:26:57<13:35:43, 33.52s/it]"
     ]
    },
    {
     "name": "stdout",
     "output_type": "stream",
     "text": [
      "AVISO: Apalancamiento corregido de 2.80 a 1.50\n"
     ]
    },
    {
     "name": "stderr",
     "output_type": "stream",
     "text": [
      " 32%|███████████████████████████▏                                                          | 671/2126 [7:28:52<12:16:28, 30.37s/it]"
     ]
    },
    {
     "name": "stdout",
     "output_type": "stream",
     "text": [
      "AVISO: Apalancamiento corregido de 3.14 a 1.50\n"
     ]
    },
    {
     "name": "stderr",
     "output_type": "stream",
     "text": [
      " 32%|███████████████████████████▎                                                          | 676/2126 [7:30:55<11:32:32, 28.66s/it]"
     ]
    },
    {
     "name": "stdout",
     "output_type": "stream",
     "text": [
      "AVISO: Apalancamiento corregido de 2.59 a 1.50\n"
     ]
    },
    {
     "name": "stderr",
     "output_type": "stream",
     "text": [
      " 32%|███████████████████████████▌                                                          | 681/2126 [7:38:38<19:10:53, 47.79s/it]"
     ]
    },
    {
     "name": "stdout",
     "output_type": "stream",
     "text": [
      "AVISO: Apalancamiento corregido de 2.41 a 1.50\n"
     ]
    },
    {
     "name": "stderr",
     "output_type": "stream",
     "text": [
      " 32%|███████████████████████████▋                                                          | 686/2126 [7:45:55<23:52:53, 59.70s/it]"
     ]
    },
    {
     "name": "stdout",
     "output_type": "stream",
     "text": [
      "AVISO: Apalancamiento corregido de 2.45 a 1.50\n"
     ]
    },
    {
     "name": "stderr",
     "output_type": "stream",
     "text": [
      " 33%|███████████████████████████▉                                                          | 691/2126 [7:50:10<22:46:03, 57.12s/it]"
     ]
    },
    {
     "name": "stdout",
     "output_type": "stream",
     "text": [
      "AVISO: Apalancamiento corregido de 2.30 a 1.50\n"
     ]
    },
    {
     "name": "stderr",
     "output_type": "stream",
     "text": [
      " 33%|████████████████████████████▏                                                         | 696/2126 [7:52:17<18:53:26, 47.56s/it]"
     ]
    },
    {
     "name": "stdout",
     "output_type": "stream",
     "text": [
      "AVISO: Apalancamiento corregido de 3.04 a 1.50\n"
     ]
    },
    {
     "name": "stderr",
     "output_type": "stream",
     "text": [
      " 33%|████████████████████████████▎                                                         | 701/2126 [7:54:23<16:10:32, 40.86s/it]"
     ]
    },
    {
     "name": "stdout",
     "output_type": "stream",
     "text": [
      "AVISO: Apalancamiento corregido de 2.84 a 1.50\n"
     ]
    },
    {
     "name": "stderr",
     "output_type": "stream",
     "text": [
      " 33%|████████████████████████████▌                                                         | 706/2126 [8:01:31<21:24:08, 54.26s/it]"
     ]
    },
    {
     "name": "stdout",
     "output_type": "stream",
     "text": [
      "AVISO: Apalancamiento corregido de 2.47 a 1.50\n"
     ]
    },
    {
     "name": "stderr",
     "output_type": "stream",
     "text": [
      " 33%|████████████████████████████▊                                                         | 711/2126 [8:08:53<25:21:19, 64.51s/it]"
     ]
    },
    {
     "name": "stdout",
     "output_type": "stream",
     "text": [
      "AVISO: Apalancamiento corregido de 2.19 a 1.50\n"
     ]
    },
    {
     "name": "stderr",
     "output_type": "stream",
     "text": [
      " 34%|████████████████████████████▉                                                         | 716/2126 [8:17:51<30:19:34, 77.43s/it]"
     ]
    },
    {
     "name": "stdout",
     "output_type": "stream",
     "text": [
      "AVISO: Apalancamiento corregido de 2.15 a 1.50\n"
     ]
    },
    {
     "name": "stderr",
     "output_type": "stream",
     "text": [
      " 34%|█████████████████████████████▏                                                        | 721/2126 [8:23:42<29:22:24, 75.26s/it]"
     ]
    },
    {
     "name": "stdout",
     "output_type": "stream",
     "text": [
      "AVISO: Apalancamiento corregido de 2.19 a 1.50\n"
     ]
    },
    {
     "name": "stderr",
     "output_type": "stream",
     "text": [
      " 34%|█████████████████████████████▌                                                        | 731/2126 [8:34:31<27:19:49, 70.53s/it]"
     ]
    },
    {
     "name": "stdout",
     "output_type": "stream",
     "text": [
      "AVISO: Apalancamiento corregido de 2.23 a 1.50\n"
     ]
    },
    {
     "name": "stderr",
     "output_type": "stream",
     "text": [
      " 35%|█████████████████████████████▊                                                        | 736/2126 [8:40:36<27:30:38, 71.25s/it]"
     ]
    },
    {
     "name": "stdout",
     "output_type": "stream",
     "text": [
      "AVISO: Apalancamiento corregido de 2.25 a 1.50\n"
     ]
    },
    {
     "name": "stderr",
     "output_type": "stream",
     "text": [
      " 35%|█████████████████████████████▉                                                        | 741/2126 [8:42:47<22:13:13, 57.76s/it]"
     ]
    },
    {
     "name": "stdout",
     "output_type": "stream",
     "text": [
      "AVISO: Apalancamiento corregido de 2.19 a 1.50\n"
     ]
    },
    {
     "name": "stderr",
     "output_type": "stream",
     "text": [
      " 35%|██████████████████████████████▏                                                       | 746/2126 [8:47:09<21:30:34, 56.11s/it]"
     ]
    },
    {
     "name": "stdout",
     "output_type": "stream",
     "text": [
      "AVISO: Apalancamiento corregido de 2.68 a 1.50\n"
     ]
    },
    {
     "name": "stderr",
     "output_type": "stream",
     "text": [
      " 35%|██████████████████████████████▍                                                       | 751/2126 [8:53:31<23:46:05, 62.23s/it]"
     ]
    },
    {
     "name": "stdout",
     "output_type": "stream",
     "text": [
      "AVISO: Apalancamiento corregido de 2.45 a 1.50\n"
     ]
    },
    {
     "name": "stderr",
     "output_type": "stream",
     "text": [
      " 36%|██████████████████████████████▌                                                       | 756/2126 [9:00:13<25:44:33, 67.64s/it]"
     ]
    },
    {
     "name": "stdout",
     "output_type": "stream",
     "text": [
      "AVISO: Apalancamiento corregido de 2.40 a 1.50\n"
     ]
    },
    {
     "name": "stderr",
     "output_type": "stream",
     "text": [
      " 36%|██████████████████████████████▊                                                       | 761/2126 [9:08:37<29:25:56, 77.62s/it]"
     ]
    },
    {
     "name": "stdout",
     "output_type": "stream",
     "text": [
      "AVISO: Apalancamiento corregido de 2.27 a 1.50\n"
     ]
    },
    {
     "name": "stderr",
     "output_type": "stream",
     "text": [
      " 36%|██████████████████████████████▉                                                       | 766/2126 [9:11:30<24:25:59, 64.68s/it]"
     ]
    },
    {
     "name": "stdout",
     "output_type": "stream",
     "text": [
      "AVISO: Apalancamiento corregido de 1.51 a 1.50\n"
     ]
    },
    {
     "name": "stderr",
     "output_type": "stream",
     "text": [
      " 37%|████████████████████████████████▏                                                     | 796/2126 [9:35:21<19:38:50, 53.18s/it]"
     ]
    },
    {
     "name": "stdout",
     "output_type": "stream",
     "text": [
      "AVISO: Apalancamiento corregido de 1.53 a 1.50\n"
     ]
    },
    {
     "name": "stderr",
     "output_type": "stream",
     "text": [
      " 38%|████████████████████████████████▍                                                     | 801/2126 [9:36:29<15:12:04, 41.30s/it]"
     ]
    },
    {
     "name": "stdout",
     "output_type": "stream",
     "text": [
      "AVISO: Apalancamiento corregido de 1.52 a 1.50\n"
     ]
    },
    {
     "name": "stderr",
     "output_type": "stream",
     "text": [
      " 38%|█████████████████████████████████▏                                                     | 811/2126 [9:37:47<8:39:08, 23.69s/it]"
     ]
    },
    {
     "name": "stdout",
     "output_type": "stream",
     "text": [
      "Rebalanceo por cambio de régimen: 3 -> 1\n"
     ]
    },
    {
     "name": "stderr",
     "output_type": "stream",
     "text": [
      " 39%|█████████████████████████████████▌                                                     | 821/2126 [9:43:11<9:34:23, 26.41s/it]"
     ]
    },
    {
     "name": "stdout",
     "output_type": "stream",
     "text": [
      "AVISO: Apalancamiento corregido de 1.56 a 1.50\n"
     ]
    },
    {
     "name": "stderr",
     "output_type": "stream",
     "text": [
      " 39%|█████████████████████████████████▊                                                     | 826/2126 [9:44:22<8:13:17, 22.77s/it]"
     ]
    },
    {
     "name": "stdout",
     "output_type": "stream",
     "text": [
      "AVISO: Apalancamiento corregido de 1.56 a 1.50\n"
     ]
    },
    {
     "name": "stderr",
     "output_type": "stream",
     "text": [
      " 40%|██████████████████████████████████▌                                                    | 846/2126 [9:49:29<6:27:06, 18.15s/it]"
     ]
    },
    {
     "name": "stdout",
     "output_type": "stream",
     "text": [
      "Rebalanceo por cambio de régimen: 3 -> 1\n"
     ]
    },
    {
     "name": "stderr",
     "output_type": "stream",
     "text": [
      " 40%|██████████████████████████████████▊                                                    | 851/2126 [9:50:22<5:30:53, 15.57s/it]"
     ]
    },
    {
     "name": "stdout",
     "output_type": "stream",
     "text": [
      "AVISO: Apalancamiento corregido de 3.54 a 1.50\n"
     ]
    },
    {
     "name": "stderr",
     "output_type": "stream",
     "text": [
      " 40%|███████████████████████████████████                                                    | 856/2126 [9:51:23<5:06:09, 14.46s/it]"
     ]
    },
    {
     "name": "stdout",
     "output_type": "stream",
     "text": [
      "AVISO: Apalancamiento corregido de 3.34 a 1.50\n"
     ]
    },
    {
     "name": "stderr",
     "output_type": "stream",
     "text": [
      " 40%|███████████████████████████████████▏                                                   | 861/2126 [9:52:37<5:07:14, 14.57s/it]"
     ]
    },
    {
     "name": "stdout",
     "output_type": "stream",
     "text": [
      "AVISO: Apalancamiento corregido de 2.17 a 1.50\n"
     ]
    },
    {
     "name": "stderr",
     "output_type": "stream",
     "text": [
      " 41%|███████████████████████████████████▍                                                   | 866/2126 [9:53:39<4:51:18, 13.87s/it]"
     ]
    },
    {
     "name": "stdout",
     "output_type": "stream",
     "text": [
      "AVISO: Apalancamiento corregido de 4.38 a 1.50\n"
     ]
    },
    {
     "name": "stderr",
     "output_type": "stream",
     "text": [
      " 41%|███████████████████████████████████▋                                                   | 871/2126 [9:54:40<4:39:49, 13.38s/it]"
     ]
    },
    {
     "name": "stdout",
     "output_type": "stream",
     "text": [
      "AVISO: Apalancamiento corregido de 4.21 a 1.50\n"
     ]
    },
    {
     "name": "stderr",
     "output_type": "stream",
     "text": [
      " 41%|███████████████████████████████████▊                                                   | 876/2126 [9:55:44<4:33:53, 13.15s/it]"
     ]
    },
    {
     "name": "stdout",
     "output_type": "stream",
     "text": [
      "AVISO: Apalancamiento corregido de 6.16 a 1.50\n"
     ]
    },
    {
     "name": "stderr",
     "output_type": "stream",
     "text": [
      " 41%|████████████████████████████████████                                                   | 881/2126 [9:56:38<4:18:19, 12.45s/it]"
     ]
    },
    {
     "name": "stdout",
     "output_type": "stream",
     "text": [
      "AVISO: Apalancamiento corregido de 6.77 a 1.50\n"
     ]
    },
    {
     "name": "stderr",
     "output_type": "stream",
     "text": [
      " 42%|████████████████████████████████████▎                                                  | 886/2126 [9:57:46<4:25:08, 12.83s/it]"
     ]
    },
    {
     "name": "stdout",
     "output_type": "stream",
     "text": [
      "AVISO: Apalancamiento corregido de 3.71 a 1.50\n"
     ]
    },
    {
     "name": "stderr",
     "output_type": "stream",
     "text": [
      " 42%|████████████████████████████████████▍                                                  | 891/2126 [9:59:01<4:36:40, 13.44s/it]"
     ]
    },
    {
     "name": "stdout",
     "output_type": "stream",
     "text": [
      "AVISO: Apalancamiento corregido de 2.84 a 1.50\n"
     ]
    },
    {
     "name": "stderr",
     "output_type": "stream",
     "text": [
      " 42%|████████████████████████████████████▏                                                 | 896/2126 [10:02:11<7:07:11, 20.84s/it]"
     ]
    },
    {
     "name": "stdout",
     "output_type": "stream",
     "text": [
      "AVISO: Apalancamiento corregido de 1.94 a 1.50\n"
     ]
    },
    {
     "name": "stderr",
     "output_type": "stream",
     "text": [
      " 42%|████████████████████████████████████                                                 | 901/2126 [10:08:07<12:15:48, 36.04s/it]"
     ]
    },
    {
     "name": "stdout",
     "output_type": "stream",
     "text": [
      "AVISO: Apalancamiento corregido de 2.32 a 1.50\n"
     ]
    },
    {
     "name": "stderr",
     "output_type": "stream",
     "text": [
      " 43%|████████████████████████████████████▏                                                | 906/2126 [10:13:55<15:37:47, 46.12s/it]"
     ]
    },
    {
     "name": "stdout",
     "output_type": "stream",
     "text": [
      "Rebalanceo por cambio de régimen: 0 -> 4\n"
     ]
    },
    {
     "name": "stderr",
     "output_type": "stream",
     "text": [
      " 43%|████████████████████████████████████▍                                                | 911/2126 [10:15:41<13:01:46, 38.61s/it]"
     ]
    },
    {
     "name": "stdout",
     "output_type": "stream",
     "text": [
      "Reduciendo exposición por drawdown: factor = 0.50\n"
     ]
    },
    {
     "name": "stderr",
     "output_type": "stream",
     "text": [
      " 43%|████████████████████████████████████▌                                                | 916/2126 [10:20:55<15:26:03, 45.92s/it]"
     ]
    },
    {
     "name": "stdout",
     "output_type": "stream",
     "text": [
      "ALERTA: Drawdown 21.49% excede límite 20.00%. Reduciendo exposición.\n",
      "Reduciendo exposición por drawdown: factor = 0.50\n"
     ]
    },
    {
     "name": "stderr",
     "output_type": "stream",
     "text": [
      " 43%|████████████████████████████████████▋                                                | 917/2126 [10:24:04<19:13:19, 57.24s/it]"
     ]
    },
    {
     "name": "stdout",
     "output_type": "stream",
     "text": [
      "ALERTA: Drawdown 22.42% excede límite 20.00%. Reduciendo exposición.\n",
      "Reduciendo exposición por drawdown: factor = 0.50\n"
     ]
    },
    {
     "name": "stderr",
     "output_type": "stream",
     "text": [
      " 43%|████████████████████████████████████▋                                                | 919/2126 [10:30:25<27:25:02, 81.78s/it]"
     ]
    },
    {
     "name": "stdout",
     "output_type": "stream",
     "text": [
      "ALERTA: Drawdown 21.72% excede límite 20.00%. Reduciendo exposición.\n",
      "Reduciendo exposición por drawdown: factor = 0.50\n"
     ]
    },
    {
     "name": "stderr",
     "output_type": "stream",
     "text": [
      " 43%|████████████████████████████████████▎                                               | 920/2126 [10:37:04<39:45:02, 118.66s/it]"
     ]
    },
    {
     "name": "stdout",
     "output_type": "stream",
     "text": [
      "ALERTA: Drawdown 23.20% excede límite 20.00%. Reduciendo exposición.\n",
      "Reduciendo exposición por drawdown: factor = 0.50\n"
     ]
    },
    {
     "name": "stderr",
     "output_type": "stream",
     "text": [
      " 43%|████████████████████████████████████▍                                               | 921/2126 [10:44:22<54:57:08, 164.17s/it]"
     ]
    },
    {
     "name": "stdout",
     "output_type": "stream",
     "text": [
      "ALERTA: Drawdown 22.81% excede límite 20.00%. Reduciendo exposición.\n",
      "Reduciendo exposición por drawdown: factor = 0.50\n"
     ]
    },
    {
     "name": "stderr",
     "output_type": "stream",
     "text": [
      " 43%|████████████████████████████████████▍                                               | 922/2126 [10:52:09<72:00:46, 215.32s/it]"
     ]
    },
    {
     "name": "stdout",
     "output_type": "stream",
     "text": [
      "ALERTA: Drawdown 23.57% excede límite 20.00%. Reduciendo exposición.\n",
      "Reduciendo exposición por drawdown: factor = 0.50\n"
     ]
    },
    {
     "name": "stderr",
     "output_type": "stream",
     "text": [
      " 43%|████████████████████████████████████▍                                               | 923/2126 [10:59:25<86:17:43, 258.24s/it]"
     ]
    },
    {
     "name": "stdout",
     "output_type": "stream",
     "text": [
      "ALERTA: Drawdown 24.24% excede límite 20.00%. Reduciendo exposición.\n",
      "Reduciendo exposición por drawdown: factor = 0.50\n"
     ]
    },
    {
     "name": "stderr",
     "output_type": "stream",
     "text": [
      " 43%|████████████████████████████████████                                               | 924/2126 [11:07:05<100:50:56, 302.04s/it]"
     ]
    },
    {
     "name": "stdout",
     "output_type": "stream",
     "text": [
      "ALERTA: Drawdown 22.09% excede límite 20.00%. Reduciendo exposición.\n",
      "Reduciendo exposición por drawdown: factor = 0.50\n"
     ]
    },
    {
     "name": "stderr",
     "output_type": "stream",
     "text": [
      " 44%|████████████████████████████████████                                               | 925/2126 [11:16:38<122:15:46, 366.48s/it]"
     ]
    },
    {
     "name": "stdout",
     "output_type": "stream",
     "text": [
      "ALERTA: Drawdown 22.09% excede límite 20.00%. Reduciendo exposición.\n",
      "Reduciendo exposición por drawdown: factor = 0.50\n"
     ]
    },
    {
     "name": "stderr",
     "output_type": "stream",
     "text": [
      " 44%|████████████████████████████████████▏                                              | 926/2126 [11:26:29<141:04:57, 423.25s/it]"
     ]
    },
    {
     "name": "stdout",
     "output_type": "stream",
     "text": [
      "ALERTA: Drawdown 22.09% excede límite 20.00%. Reduciendo exposición.\n",
      "Reduciendo exposición por drawdown: factor = 0.50\n"
     ]
    },
    {
     "name": "stderr",
     "output_type": "stream",
     "text": [
      " 44%|████████████████████████████████████▏                                              | 927/2126 [11:36:26<156:16:28, 469.21s/it]"
     ]
    },
    {
     "name": "stdout",
     "output_type": "stream",
     "text": [
      "ALERTA: Drawdown 22.09% excede límite 20.00%. Reduciendo exposición.\n",
      "Reduciendo exposición por drawdown: factor = 0.50\n"
     ]
    },
    {
     "name": "stderr",
     "output_type": "stream",
     "text": [
      " 44%|████████████████████████████████████▏                                              | 928/2126 [11:45:24<162:30:16, 488.33s/it]"
     ]
    },
    {
     "name": "stdout",
     "output_type": "stream",
     "text": [
      "ALERTA: Drawdown 22.09% excede límite 20.00%. Reduciendo exposición.\n",
      "Reduciendo exposición por drawdown: factor = 0.50\n"
     ]
    },
    {
     "name": "stderr",
     "output_type": "stream",
     "text": [
      " 44%|████████████████████████████████████▎                                              | 929/2126 [11:54:20<166:46:42, 501.59s/it]"
     ]
    },
    {
     "name": "stdout",
     "output_type": "stream",
     "text": [
      "ALERTA: Drawdown 22.09% excede límite 20.00%. Reduciendo exposición.\n",
      "Reduciendo exposición por drawdown: factor = 0.50\n"
     ]
    },
    {
     "name": "stderr",
     "output_type": "stream",
     "text": [
      " 44%|████████████████████████████████████▎                                              | 930/2126 [12:03:17<170:04:21, 511.92s/it]"
     ]
    },
    {
     "name": "stdout",
     "output_type": "stream",
     "text": [
      "ALERTA: Drawdown 22.09% excede límite 20.00%. Reduciendo exposición.\n",
      "Reduciendo exposición por drawdown: factor = 0.50\n"
     ]
    },
    {
     "name": "stderr",
     "output_type": "stream",
     "text": [
      " 44%|████████████████████████████████████▎                                              | 931/2126 [12:12:08<171:44:08, 517.36s/it]"
     ]
    },
    {
     "name": "stdout",
     "output_type": "stream",
     "text": [
      "ALERTA: Drawdown 22.09% excede límite 20.00%. Reduciendo exposición.\n",
      "Reduciendo exposición por drawdown: factor = 0.50\n"
     ]
    },
    {
     "name": "stderr",
     "output_type": "stream",
     "text": [
      " 44%|████████████████████████████████████▍                                              | 932/2126 [12:21:00<173:00:39, 521.64s/it]"
     ]
    },
    {
     "name": "stdout",
     "output_type": "stream",
     "text": [
      "ALERTA: Drawdown 22.09% excede límite 20.00%. Reduciendo exposición.\n",
      "Reduciendo exposición por drawdown: factor = 0.50\n"
     ]
    },
    {
     "name": "stderr",
     "output_type": "stream",
     "text": [
      " 44%|████████████████████████████████████▍                                              | 933/2126 [12:29:56<174:16:32, 525.89s/it]"
     ]
    },
    {
     "name": "stdout",
     "output_type": "stream",
     "text": [
      "ALERTA: Drawdown 22.09% excede límite 20.00%. Reduciendo exposición.\n",
      "Reduciendo exposición por drawdown: factor = 0.50\n"
     ]
    },
    {
     "name": "stderr",
     "output_type": "stream",
     "text": [
      " 44%|████████████████████████████████████▍                                              | 934/2126 [12:38:58<175:42:42, 530.67s/it]"
     ]
    },
    {
     "name": "stdout",
     "output_type": "stream",
     "text": [
      "ALERTA: Drawdown 22.09% excede límite 20.00%. Reduciendo exposición.\n",
      "Reduciendo exposición por drawdown: factor = 0.50\n"
     ]
    },
    {
     "name": "stderr",
     "output_type": "stream",
     "text": [
      " 44%|████████████████████████████████████▌                                              | 935/2126 [12:47:57<176:23:44, 533.19s/it]"
     ]
    },
    {
     "name": "stdout",
     "output_type": "stream",
     "text": [
      "ALERTA: Drawdown 22.09% excede límite 20.00%. Reduciendo exposición.\n",
      "Reduciendo exposición por drawdown: factor = 0.50\n"
     ]
    },
    {
     "name": "stderr",
     "output_type": "stream",
     "text": [
      " 44%|████████████████████████████████████▌                                              | 936/2126 [12:56:50<176:14:44, 533.18s/it]"
     ]
    },
    {
     "name": "stdout",
     "output_type": "stream",
     "text": [
      "ALERTA: Drawdown 22.09% excede límite 20.00%. Reduciendo exposición.\n",
      "Reduciendo exposición por drawdown: factor = 0.50\n"
     ]
    },
    {
     "name": "stderr",
     "output_type": "stream",
     "text": [
      " 44%|████████████████████████████████████▌                                              | 937/2126 [13:05:42<175:56:44, 532.72s/it]"
     ]
    },
    {
     "name": "stdout",
     "output_type": "stream",
     "text": [
      "ALERTA: Drawdown 22.09% excede límite 20.00%. Reduciendo exposición.\n",
      "Reduciendo exposición por drawdown: factor = 0.50\n"
     ]
    },
    {
     "name": "stderr",
     "output_type": "stream",
     "text": [
      " 44%|████████████████████████████████████▌                                              | 938/2126 [13:14:34<175:42:05, 532.43s/it]"
     ]
    },
    {
     "name": "stdout",
     "output_type": "stream",
     "text": [
      "ALERTA: Drawdown 22.09% excede límite 20.00%. Reduciendo exposición.\n",
      "Reduciendo exposición por drawdown: factor = 0.50\n"
     ]
    },
    {
     "name": "stderr",
     "output_type": "stream",
     "text": [
      " 44%|████████████████████████████████████▋                                              | 939/2126 [13:23:28<175:43:40, 532.96s/it]"
     ]
    },
    {
     "name": "stdout",
     "output_type": "stream",
     "text": [
      "ALERTA: Drawdown 22.09% excede límite 20.00%. Reduciendo exposición.\n",
      "Reduciendo exposición por drawdown: factor = 0.50\n"
     ]
    },
    {
     "name": "stderr",
     "output_type": "stream",
     "text": [
      " 44%|████████████████████████████████████▋                                              | 940/2126 [13:32:17<175:14:24, 531.93s/it]"
     ]
    },
    {
     "name": "stdout",
     "output_type": "stream",
     "text": [
      "ALERTA: Drawdown 22.09% excede límite 20.00%. Reduciendo exposición.\n",
      "Reduciendo exposición por drawdown: factor = 0.50\n"
     ]
    },
    {
     "name": "stderr",
     "output_type": "stream",
     "text": [
      " 44%|████████████████████████████████████▋                                              | 941/2126 [13:41:04<174:36:41, 530.47s/it]"
     ]
    },
    {
     "name": "stdout",
     "output_type": "stream",
     "text": [
      "ALERTA: Drawdown 22.09% excede límite 20.00%. Reduciendo exposición.\n",
      "Reduciendo exposición por drawdown: factor = 0.50\n"
     ]
    },
    {
     "name": "stderr",
     "output_type": "stream",
     "text": [
      " 44%|████████████████████████████████████▊                                              | 942/2126 [13:47:18<158:58:00, 483.35s/it]"
     ]
    },
    {
     "name": "stdout",
     "output_type": "stream",
     "text": [
      "ALERTA: Drawdown 22.09% excede límite 20.00%. Reduciendo exposición.\n",
      "Reduciendo exposición por drawdown: factor = 0.50\n"
     ]
    },
    {
     "name": "stderr",
     "output_type": "stream",
     "text": [
      " 44%|████████████████████████████████████▊                                              | 943/2126 [13:52:56<144:34:26, 439.95s/it]"
     ]
    },
    {
     "name": "stdout",
     "output_type": "stream",
     "text": [
      "ALERTA: Drawdown 22.71% excede límite 20.00%. Reduciendo exposición.\n",
      "Reduciendo exposición por drawdown: factor = 0.50\n"
     ]
    },
    {
     "name": "stderr",
     "output_type": "stream",
     "text": [
      " 44%|████████████████████████████████████▊                                              | 944/2126 [13:58:26<133:34:58, 406.85s/it]"
     ]
    },
    {
     "name": "stdout",
     "output_type": "stream",
     "text": [
      "ALERTA: Drawdown 22.30% excede límite 20.00%. Reduciendo exposición.\n",
      "Reduciendo exposición por drawdown: factor = 0.50\n"
     ]
    },
    {
     "name": "stderr",
     "output_type": "stream",
     "text": [
      " 44%|████████████████████████████████████▉                                              | 945/2126 [14:03:52<125:29:35, 382.54s/it]"
     ]
    },
    {
     "name": "stdout",
     "output_type": "stream",
     "text": [
      "ALERTA: Drawdown 22.29% excede límite 20.00%. Reduciendo exposición.\n",
      "Reduciendo exposición por drawdown: factor = 0.50\n"
     ]
    },
    {
     "name": "stderr",
     "output_type": "stream",
     "text": [
      " 44%|████████████████████████████████████▉                                              | 946/2126 [14:07:42<110:23:01, 336.76s/it]"
     ]
    },
    {
     "name": "stdout",
     "output_type": "stream",
     "text": [
      "ALERTA: Drawdown 22.01% excede límite 20.00%. Reduciendo exposición.\n",
      "Reduciendo exposición por drawdown: factor = 0.50\n"
     ]
    },
    {
     "name": "stderr",
     "output_type": "stream",
     "text": [
      " 45%|████████████████████████████████████▉                                              | 947/2126 [14:12:45<106:59:42, 326.70s/it]"
     ]
    },
    {
     "name": "stdout",
     "output_type": "stream",
     "text": [
      "ALERTA: Drawdown 21.52% excede límite 20.00%. Reduciendo exposición.\n",
      "Reduciendo exposición por drawdown: factor = 0.50\n"
     ]
    },
    {
     "name": "stderr",
     "output_type": "stream",
     "text": [
      " 45%|█████████████████████████████████████                                              | 948/2126 [14:17:04<100:17:45, 306.51s/it]"
     ]
    },
    {
     "name": "stdout",
     "output_type": "stream",
     "text": [
      "ALERTA: Drawdown 21.42% excede límite 20.00%. Reduciendo exposición.\n",
      "Reduciendo exposición por drawdown: factor = 0.50\n"
     ]
    },
    {
     "name": "stderr",
     "output_type": "stream",
     "text": [
      " 45%|█████████████████████████████████████▍                                              | 949/2126 [14:21:51<98:13:38, 300.44s/it]"
     ]
    },
    {
     "name": "stdout",
     "output_type": "stream",
     "text": [
      "ALERTA: Drawdown 20.89% excede límite 20.00%. Reduciendo exposición.\n",
      "Reduciendo exposición por drawdown: factor = 0.50\n"
     ]
    },
    {
     "name": "stderr",
     "output_type": "stream",
     "text": [
      " 45%|█████████████████████████████████████▌                                              | 950/2126 [14:27:00<99:03:38, 303.25s/it]"
     ]
    },
    {
     "name": "stdout",
     "output_type": "stream",
     "text": [
      "ALERTA: Drawdown 21.29% excede límite 20.00%. Reduciendo exposición.\n",
      "Reduciendo exposición por drawdown: factor = 0.50\n"
     ]
    },
    {
     "name": "stderr",
     "output_type": "stream",
     "text": [
      " 45%|█████████████████████████████████████▌                                              | 951/2126 [14:31:22<94:55:29, 290.83s/it]"
     ]
    },
    {
     "name": "stdout",
     "output_type": "stream",
     "text": [
      "ALERTA: Drawdown 22.02% excede límite 20.00%. Reduciendo exposición.\n",
      "Reduciendo exposición por drawdown: factor = 0.50\n"
     ]
    },
    {
     "name": "stderr",
     "output_type": "stream",
     "text": [
      " 45%|█████████████████████████████████████▌                                              | 952/2126 [14:35:32<90:47:49, 278.42s/it]"
     ]
    },
    {
     "name": "stdout",
     "output_type": "stream",
     "text": [
      "ALERTA: Drawdown 21.96% excede límite 20.00%. Reduciendo exposición.\n",
      "Reduciendo exposición por drawdown: factor = 0.50\n"
     ]
    },
    {
     "name": "stderr",
     "output_type": "stream",
     "text": [
      " 45%|█████████████████████████████████████▋                                              | 953/2126 [14:39:19<85:43:49, 263.11s/it]"
     ]
    },
    {
     "name": "stdout",
     "output_type": "stream",
     "text": [
      "ALERTA: Drawdown 21.75% excede límite 20.00%. Reduciendo exposición.\n",
      "Reduciendo exposición por drawdown: factor = 0.50\n"
     ]
    },
    {
     "name": "stderr",
     "output_type": "stream",
     "text": [
      " 45%|█████████████████████████████████████▋                                              | 954/2126 [14:45:30<96:14:15, 295.61s/it]"
     ]
    },
    {
     "name": "stdout",
     "output_type": "stream",
     "text": [
      "ALERTA: Drawdown 22.22% excede límite 20.00%. Reduciendo exposición.\n",
      "Reduciendo exposición por drawdown: factor = 0.50\n"
     ]
    },
    {
     "name": "stderr",
     "output_type": "stream",
     "text": [
      " 45%|█████████████████████████████████████▋                                              | 955/2126 [14:51:01<99:31:05, 305.95s/it]"
     ]
    },
    {
     "name": "stdout",
     "output_type": "stream",
     "text": [
      "ALERTA: Drawdown 21.53% excede límite 20.00%. Reduciendo exposición.\n",
      "Reduciendo exposición por drawdown: factor = 0.50\n"
     ]
    },
    {
     "name": "stderr",
     "output_type": "stream",
     "text": [
      " 45%|█████████████████████████████████████▊                                              | 956/2126 [14:54:33<90:17:35, 277.83s/it]"
     ]
    },
    {
     "name": "stdout",
     "output_type": "stream",
     "text": [
      "ALERTA: Drawdown 20.54% excede límite 20.00%. Reduciendo exposición.\n",
      "Reduciendo exposición por drawdown: factor = 0.50\n"
     ]
    },
    {
     "name": "stderr",
     "output_type": "stream",
     "text": [
      " 45%|█████████████████████████████████████▊                                              | 957/2126 [14:59:10<90:12:07, 277.78s/it]"
     ]
    },
    {
     "name": "stdout",
     "output_type": "stream",
     "text": [
      "ALERTA: Drawdown 20.79% excede límite 20.00%. Reduciendo exposición.\n",
      "Reduciendo exposición por drawdown: factor = 0.50\n"
     ]
    },
    {
     "name": "stderr",
     "output_type": "stream",
     "text": [
      " 45%|█████████████████████████████████████▊                                              | 958/2126 [15:02:11<80:40:31, 248.66s/it]"
     ]
    },
    {
     "name": "stdout",
     "output_type": "stream",
     "text": [
      "ALERTA: Drawdown 21.35% excede límite 20.00%. Reduciendo exposición.\n",
      "Reduciendo exposición por drawdown: factor = 0.50\n"
     ]
    },
    {
     "name": "stderr",
     "output_type": "stream",
     "text": [
      " 45%|█████████████████████████████████████▉                                              | 959/2126 [15:06:17<80:17:15, 247.67s/it]"
     ]
    },
    {
     "name": "stdout",
     "output_type": "stream",
     "text": [
      "ALERTA: Drawdown 22.37% excede límite 20.00%. Reduciendo exposición.\n",
      "Reduciendo exposición por drawdown: factor = 0.50\n"
     ]
    },
    {
     "name": "stderr",
     "output_type": "stream",
     "text": [
      " 45%|█████████████████████████████████████▉                                              | 960/2126 [15:11:46<88:07:40, 272.09s/it]"
     ]
    },
    {
     "name": "stdout",
     "output_type": "stream",
     "text": [
      "ALERTA: Drawdown 21.86% excede límite 20.00%. Reduciendo exposición.\n",
      "Reduciendo exposición por drawdown: factor = 0.50\n"
     ]
    },
    {
     "name": "stderr",
     "output_type": "stream",
     "text": [
      " 45%|█████████████████████████████████████▉                                              | 961/2126 [15:16:11<87:25:55, 270.18s/it]"
     ]
    },
    {
     "name": "stdout",
     "output_type": "stream",
     "text": [
      "ALERTA: Drawdown 21.67% excede límite 20.00%. Reduciendo exposición.\n",
      "Reduciendo exposición por drawdown: factor = 0.50\n"
     ]
    },
    {
     "name": "stderr",
     "output_type": "stream",
     "text": [
      " 45%|██████████████████████████████████████                                              | 962/2126 [15:20:13<84:37:10, 261.71s/it]"
     ]
    },
    {
     "name": "stdout",
     "output_type": "stream",
     "text": [
      "ALERTA: Drawdown 20.28% excede límite 20.00%. Reduciendo exposición.\n",
      "Reduciendo exposición por drawdown: factor = 0.50\n"
     ]
    },
    {
     "name": "stderr",
     "output_type": "stream",
     "text": [
      " 45%|██████████████████████████████████████                                              | 964/2126 [15:23:09<58:36:17, 181.56s/it]"
     ]
    },
    {
     "name": "stdout",
     "output_type": "stream",
     "text": [
      "ALERTA: Drawdown 20.07% excede límite 20.00%. Reduciendo exposición.\n",
      "Reduciendo exposición por drawdown: factor = 0.50\n"
     ]
    },
    {
     "name": "stderr",
     "output_type": "stream",
     "text": [
      " 45%|██████████████████████████████████████▏                                             | 966/2126 [15:25:57<46:00:25, 142.78s/it]"
     ]
    },
    {
     "name": "stdout",
     "output_type": "stream",
     "text": [
      "Reduciendo exposición por drawdown: factor = 0.50\n"
     ]
    },
    {
     "name": "stderr",
     "output_type": "stream",
     "text": [
      " 46%|██████████████████████████████████████▊                                              | 971/2126 [15:30:05<28:16:08, 88.11s/it]"
     ]
    },
    {
     "name": "stdout",
     "output_type": "stream",
     "text": [
      "Reduciendo exposición por drawdown: factor = 0.50\n"
     ]
    },
    {
     "name": "stderr",
     "output_type": "stream",
     "text": [
      " 46%|███████████████████████████████████████                                              | 976/2126 [15:33:31<21:19:13, 66.74s/it]"
     ]
    },
    {
     "name": "stdout",
     "output_type": "stream",
     "text": [
      "Reduciendo exposición por drawdown: factor = 0.50\n"
     ]
    },
    {
     "name": "stderr",
     "output_type": "stream",
     "text": [
      " 46%|███████████████████████████████████████▏                                             | 981/2126 [15:39:47<22:16:08, 70.02s/it]"
     ]
    },
    {
     "name": "stdout",
     "output_type": "stream",
     "text": [
      "Reduciendo exposición por drawdown: factor = 0.50\n"
     ]
    },
    {
     "name": "stderr",
     "output_type": "stream",
     "text": [
      " 46%|███████████████████████████████████████▍                                             | 986/2126 [15:43:49<19:42:32, 62.24s/it]"
     ]
    },
    {
     "name": "stdout",
     "output_type": "stream",
     "text": [
      "Reduciendo exposición por drawdown: factor = 0.50\n"
     ]
    },
    {
     "name": "stderr",
     "output_type": "stream",
     "text": [
      " 47%|███████████████████████████████████████▌                                             | 991/2126 [15:49:51<20:42:27, 65.68s/it]"
     ]
    },
    {
     "name": "stdout",
     "output_type": "stream",
     "text": [
      "Reduciendo exposición por drawdown: factor = 0.50\n"
     ]
    },
    {
     "name": "stderr",
     "output_type": "stream",
     "text": [
      " 47%|███████████████████████████████████████▊                                             | 996/2126 [15:52:56<17:40:32, 56.31s/it]"
     ]
    },
    {
     "name": "stdout",
     "output_type": "stream",
     "text": [
      "Reduciendo exposición por drawdown: factor = 0.50\n"
     ]
    },
    {
     "name": "stderr",
     "output_type": "stream",
     "text": [
      " 47%|███████████████████████████████████████▌                                            | 1001/2126 [15:55:26<14:58:34, 47.92s/it]"
     ]
    },
    {
     "name": "stdout",
     "output_type": "stream",
     "text": [
      "Reduciendo exposición por drawdown: factor = 0.50\n"
     ]
    },
    {
     "name": "stderr",
     "output_type": "stream",
     "text": [
      " 47%|███████████████████████████████████████▋                                            | 1006/2126 [15:57:49<13:02:48, 41.94s/it]"
     ]
    },
    {
     "name": "stdout",
     "output_type": "stream",
     "text": [
      "Reduciendo exposición por drawdown: factor = 0.50\n"
     ]
    },
    {
     "name": "stderr",
     "output_type": "stream",
     "text": [
      " 48%|███████████████████████████████████████▉                                            | 1011/2126 [16:00:42<12:16:41, 39.64s/it]"
     ]
    },
    {
     "name": "stdout",
     "output_type": "stream",
     "text": [
      "Reduciendo exposición por drawdown: factor = 0.51\n"
     ]
    },
    {
     "name": "stderr",
     "output_type": "stream",
     "text": [
      " 48%|████████████████████████████████████████▏                                           | 1016/2126 [16:04:06<12:20:02, 40.00s/it]"
     ]
    },
    {
     "name": "stdout",
     "output_type": "stream",
     "text": [
      "Reduciendo exposición por drawdown: factor = 0.64\n"
     ]
    },
    {
     "name": "stderr",
     "output_type": "stream",
     "text": [
      " 48%|████████████████████████████████████████▎                                           | 1021/2126 [16:06:49<11:35:38, 37.77s/it]"
     ]
    },
    {
     "name": "stdout",
     "output_type": "stream",
     "text": [
      "Reduciendo exposición por drawdown: factor = 0.76\n"
     ]
    },
    {
     "name": "stderr",
     "output_type": "stream",
     "text": [
      " 48%|████████████████████████████████████████▌                                           | 1026/2126 [16:12:07<13:55:40, 45.58s/it]"
     ]
    },
    {
     "name": "stdout",
     "output_type": "stream",
     "text": [
      "Reduciendo exposición por drawdown: factor = 0.80\n"
     ]
    },
    {
     "name": "stderr",
     "output_type": "stream",
     "text": [
      " 48%|████████████████████████████████████████▋                                           | 1031/2126 [16:16:38<14:38:58, 48.16s/it]"
     ]
    },
    {
     "name": "stdout",
     "output_type": "stream",
     "text": [
      "Reduciendo exposición por drawdown: factor = 0.89\n"
     ]
    },
    {
     "name": "stderr",
     "output_type": "stream",
     "text": [
      " 49%|████████████████████████████████████████▉                                           | 1036/2126 [16:21:08<15:06:49, 49.92s/it]"
     ]
    },
    {
     "name": "stdout",
     "output_type": "stream",
     "text": [
      "AVISO: Apalancamiento corregido de 1.92 a 1.50\n",
      "Reduciendo exposición por drawdown: factor = 0.50\n"
     ]
    },
    {
     "name": "stderr",
     "output_type": "stream",
     "text": [
      " 49%|█████████████████████████████████████████▏                                          | 1041/2126 [16:25:26<15:11:39, 50.41s/it]"
     ]
    },
    {
     "name": "stdout",
     "output_type": "stream",
     "text": [
      "Reduciendo exposición por drawdown: factor = 0.81\n"
     ]
    },
    {
     "name": "stderr",
     "output_type": "stream",
     "text": [
      " 49%|█████████████████████████████████████████▎                                          | 1046/2126 [16:28:41<14:05:45, 46.99s/it]"
     ]
    },
    {
     "name": "stdout",
     "output_type": "stream",
     "text": [
      "Reduciendo exposición por drawdown: factor = 0.57\n"
     ]
    },
    {
     "name": "stderr",
     "output_type": "stream",
     "text": [
      " 49%|█████████████████████████████████████████▌                                          | 1051/2126 [16:32:47<14:13:53, 47.66s/it]"
     ]
    },
    {
     "name": "stdout",
     "output_type": "stream",
     "text": [
      "Reduciendo exposición por drawdown: factor = 0.55\n"
     ]
    },
    {
     "name": "stderr",
     "output_type": "stream",
     "text": [
      " 50%|█████████████████████████████████████████▋                                          | 1056/2126 [16:36:36<14:00:06, 47.11s/it]"
     ]
    },
    {
     "name": "stdout",
     "output_type": "stream",
     "text": [
      "Reduciendo exposición por drawdown: factor = 0.65\n"
     ]
    },
    {
     "name": "stderr",
     "output_type": "stream",
     "text": [
      " 50%|█████████████████████████████████████████▉                                          | 1061/2126 [16:38:58<12:16:59, 41.52s/it]"
     ]
    },
    {
     "name": "stdout",
     "output_type": "stream",
     "text": [
      "Rebalanceo por cambio de régimen: 2 -> 0\n",
      "Reduciendo exposición por drawdown: factor = 0.81\n"
     ]
    },
    {
     "name": "stderr",
     "output_type": "stream",
     "text": [
      " 50%|██████████████████████████████████████████                                          | 1066/2126 [16:42:23<12:09:57, 41.32s/it]"
     ]
    },
    {
     "name": "stdout",
     "output_type": "stream",
     "text": [
      "Reduciendo exposición por drawdown: factor = 0.78\n"
     ]
    },
    {
     "name": "stderr",
     "output_type": "stream",
     "text": [
      " 50%|██████████████████████████████████████████▎                                         | 1071/2126 [16:46:04<12:22:31, 42.23s/it]"
     ]
    },
    {
     "name": "stdout",
     "output_type": "stream",
     "text": [
      "Reduciendo exposición por drawdown: factor = 0.63\n"
     ]
    },
    {
     "name": "stderr",
     "output_type": "stream",
     "text": [
      " 51%|██████████████████████████████████████████▌                                         | 1076/2126 [16:50:14<12:59:04, 44.52s/it]"
     ]
    },
    {
     "name": "stdout",
     "output_type": "stream",
     "text": [
      "Reduciendo exposición por drawdown: factor = 0.64\n"
     ]
    },
    {
     "name": "stderr",
     "output_type": "stream",
     "text": [
      " 51%|██████████████████████████████████████████▋                                         | 1081/2126 [16:53:41<12:39:03, 43.58s/it]"
     ]
    },
    {
     "name": "stdout",
     "output_type": "stream",
     "text": [
      "Reduciendo exposición por drawdown: factor = 0.87\n"
     ]
    },
    {
     "name": "stderr",
     "output_type": "stream",
     "text": [
      " 52%|███████████████████████████████████████████▋                                        | 1106/2126 [17:15:38<14:47:45, 52.22s/it]"
     ]
    },
    {
     "name": "stdout",
     "output_type": "stream",
     "text": [
      "Rebalanceo por cambio de régimen: 3 -> 0\n"
     ]
    },
    {
     "name": "stderr",
     "output_type": "stream",
     "text": [
      " 52%|███████████████████████████████████████████▉                                        | 1111/2126 [17:16:48<11:29:24, 40.75s/it]"
     ]
    },
    {
     "name": "stdout",
     "output_type": "stream",
     "text": [
      "AVISO: Apalancamiento corregido de 2.31 a 1.50\n"
     ]
    },
    {
     "name": "stderr",
     "output_type": "stream",
     "text": [
      " 52%|████████████████████████████████████████████                                        | 1116/2126 [17:22:19<13:34:42, 48.40s/it]"
     ]
    },
    {
     "name": "stdout",
     "output_type": "stream",
     "text": [
      "AVISO: Apalancamiento corregido de 2.54 a 1.50\n"
     ]
    },
    {
     "name": "stderr",
     "output_type": "stream",
     "text": [
      " 53%|████████████████████████████████████████████▎                                       | 1121/2126 [17:23:45<10:53:22, 39.01s/it]"
     ]
    },
    {
     "name": "stdout",
     "output_type": "stream",
     "text": [
      "AVISO: Apalancamiento corregido de 2.19 a 1.50\n"
     ]
    },
    {
     "name": "stderr",
     "output_type": "stream",
     "text": [
      " 53%|████████████████████████████████████████████▍                                       | 1126/2126 [17:26:46<10:35:53, 38.15s/it]"
     ]
    },
    {
     "name": "stdout",
     "output_type": "stream",
     "text": [
      "AVISO: Apalancamiento corregido de 1.99 a 1.50\n"
     ]
    },
    {
     "name": "stderr",
     "output_type": "stream",
     "text": [
      " 53%|████████████████████████████████████████████▋                                       | 1131/2126 [17:30:54<11:29:39, 41.59s/it]"
     ]
    },
    {
     "name": "stdout",
     "output_type": "stream",
     "text": [
      "AVISO: Apalancamiento corregido de 2.62 a 1.50\n"
     ]
    },
    {
     "name": "stderr",
     "output_type": "stream",
     "text": [
      " 53%|████████████████████████████████████████████▉                                       | 1136/2126 [17:35:07<12:11:06, 44.31s/it]"
     ]
    },
    {
     "name": "stdout",
     "output_type": "stream",
     "text": [
      "AVISO: Apalancamiento corregido de 2.88 a 1.50\n",
      "Rebalanceo por cambio de régimen: 0 -> 2\n"
     ]
    },
    {
     "name": "stderr",
     "output_type": "stream",
     "text": [
      " 55%|██████████████████████████████████████████████                                      | 1166/2126 [17:59:22<12:32:53, 47.06s/it]"
     ]
    },
    {
     "name": "stdout",
     "output_type": "stream",
     "text": [
      "Rebalanceo por cambio de régimen: 1 -> 3\n"
     ]
    },
    {
     "name": "stderr",
     "output_type": "stream",
     "text": [
      " 56%|███████████████████████████████████████████████▌                                     | 1191/2126 [18:09:46<6:50:32, 26.35s/it]"
     ]
    },
    {
     "name": "stdout",
     "output_type": "stream",
     "text": [
      "Rebalanceo por cambio de régimen: 3 -> 1\n"
     ]
    },
    {
     "name": "stderr",
     "output_type": "stream",
     "text": [
      " 56%|███████████████████████████████████████████████▊                                     | 1196/2126 [18:12:59<7:45:16, 30.02s/it]"
     ]
    },
    {
     "name": "stdout",
     "output_type": "stream",
     "text": [
      "AVISO: Apalancamiento corregido de 2.10 a 1.50\n"
     ]
    },
    {
     "name": "stderr",
     "output_type": "stream",
     "text": [
      " 56%|████████████████████████████████████████████████                                     | 1201/2126 [18:17:50<9:52:22, 38.42s/it]"
     ]
    },
    {
     "name": "stdout",
     "output_type": "stream",
     "text": [
      "AVISO: Apalancamiento corregido de 2.56 a 1.50\n"
     ]
    },
    {
     "name": "stderr",
     "output_type": "stream",
     "text": [
      " 57%|███████████████████████████████████████████████▋                                    | 1206/2126 [18:23:35<12:09:54, 47.60s/it]"
     ]
    },
    {
     "name": "stdout",
     "output_type": "stream",
     "text": [
      "AVISO: Apalancamiento corregido de 2.53 a 1.50\n"
     ]
    },
    {
     "name": "stderr",
     "output_type": "stream",
     "text": [
      " 57%|███████████████████████████████████████████████▊                                    | 1211/2126 [18:29:42<14:04:41, 55.39s/it]"
     ]
    },
    {
     "name": "stdout",
     "output_type": "stream",
     "text": [
      "AVISO: Apalancamiento corregido de 2.26 a 1.50\n"
     ]
    },
    {
     "name": "stderr",
     "output_type": "stream",
     "text": [
      " 57%|████████████████████████████████████████████████▏                                   | 1221/2126 [18:38:26<13:38:33, 54.27s/it]"
     ]
    },
    {
     "name": "stdout",
     "output_type": "stream",
     "text": [
      "AVISO: Apalancamiento corregido de 1.89 a 1.50\n",
      "Rebalanceo por cambio de régimen: 1 -> 3\n"
     ]
    },
    {
     "name": "stderr",
     "output_type": "stream",
     "text": [
      " 58%|█████████████████████████████████████████████████▏                                   | 1231/2126 [18:40:49<8:09:00, 32.78s/it]"
     ]
    },
    {
     "name": "stdout",
     "output_type": "stream",
     "text": [
      "Rebalanceo por cambio de régimen: 3 -> 0\n"
     ]
    },
    {
     "name": "stderr",
     "output_type": "stream",
     "text": [
      " 58%|█████████████████████████████████████████████████▍                                   | 1236/2126 [18:41:55<6:38:59, 26.90s/it]"
     ]
    },
    {
     "name": "stdout",
     "output_type": "stream",
     "text": [
      "AVISO: Apalancamiento corregido de 3.89 a 1.50\n"
     ]
    },
    {
     "name": "stderr",
     "output_type": "stream",
     "text": [
      " 58%|█████████████████████████████████████████████████▌                                   | 1241/2126 [18:43:14<5:47:22, 23.55s/it]"
     ]
    },
    {
     "name": "stdout",
     "output_type": "stream",
     "text": [
      "AVISO: Apalancamiento corregido de 2.78 a 1.50\n"
     ]
    },
    {
     "name": "stderr",
     "output_type": "stream",
     "text": [
      " 59%|█████████████████████████████████████████████████▊                                   | 1246/2126 [18:44:44<5:20:56, 21.88s/it]"
     ]
    },
    {
     "name": "stdout",
     "output_type": "stream",
     "text": [
      "AVISO: Apalancamiento corregido de 2.77 a 1.50\n"
     ]
    },
    {
     "name": "stderr",
     "output_type": "stream",
     "text": [
      " 59%|██████████████████████████████████████████████████                                   | 1251/2126 [18:50:18<8:36:14, 35.40s/it]"
     ]
    },
    {
     "name": "stdout",
     "output_type": "stream",
     "text": [
      "AVISO: Apalancamiento corregido de 2.49 a 1.50\n"
     ]
    },
    {
     "name": "stderr",
     "output_type": "stream",
     "text": [
      " 59%|█████████████████████████████████████████████████▋                                  | 1256/2126 [18:56:03<10:59:19, 45.47s/it]"
     ]
    },
    {
     "name": "stdout",
     "output_type": "stream",
     "text": [
      "AVISO: Apalancamiento corregido de 2.22 a 1.50\n"
     ]
    },
    {
     "name": "stderr",
     "output_type": "stream",
     "text": [
      " 59%|█████████████████████████████████████████████████▊                                  | 1261/2126 [19:01:08<12:02:49, 50.14s/it]"
     ]
    },
    {
     "name": "stdout",
     "output_type": "stream",
     "text": [
      "AVISO: Apalancamiento corregido de 1.90 a 1.50\n"
     ]
    },
    {
     "name": "stderr",
     "output_type": "stream",
     "text": [
      " 60%|██████████████████████████████████████████████████▌                                  | 1266/2126 [19:02:09<9:15:03, 38.72s/it]"
     ]
    },
    {
     "name": "stdout",
     "output_type": "stream",
     "text": [
      "AVISO: Apalancamiento corregido de 1.56 a 1.50\n"
     ]
    },
    {
     "name": "stderr",
     "output_type": "stream",
     "text": [
      " 60%|██████████████████████████████████████████████████▊                                  | 1271/2126 [19:03:07<7:16:11, 30.61s/it]"
     ]
    },
    {
     "name": "stdout",
     "output_type": "stream",
     "text": [
      "AVISO: Apalancamiento corregido de 1.62 a 1.50\n"
     ]
    },
    {
     "name": "stderr",
     "output_type": "stream",
     "text": [
      " 60%|███████████████████████████████████████████████████                                  | 1276/2126 [19:04:24<6:08:42, 26.03s/it]"
     ]
    },
    {
     "name": "stdout",
     "output_type": "stream",
     "text": [
      "AVISO: Apalancamiento corregido de 1.67 a 1.50\n",
      "Rebalanceo por cambio de régimen: 2 -> 0\n"
     ]
    },
    {
     "name": "stderr",
     "output_type": "stream",
     "text": [
      " 60%|███████████████████████████████████████████████████▏                                 | 1281/2126 [19:05:48<5:27:56, 23.29s/it]"
     ]
    },
    {
     "name": "stdout",
     "output_type": "stream",
     "text": [
      "AVISO: Apalancamiento corregido de 3.16 a 1.50\n"
     ]
    },
    {
     "name": "stderr",
     "output_type": "stream",
     "text": [
      " 60%|███████████████████████████████████████████████████▍                                 | 1286/2126 [19:07:10<4:56:29, 21.18s/it]"
     ]
    },
    {
     "name": "stdout",
     "output_type": "stream",
     "text": [
      "AVISO: Apalancamiento corregido de 3.05 a 1.50\n"
     ]
    },
    {
     "name": "stderr",
     "output_type": "stream",
     "text": [
      " 61%|███████████████████████████████████████████████████▌                                 | 1291/2126 [19:10:10<5:56:46, 25.64s/it]"
     ]
    },
    {
     "name": "stdout",
     "output_type": "stream",
     "text": [
      "AVISO: Apalancamiento corregido de 2.66 a 1.50\n"
     ]
    },
    {
     "name": "stderr",
     "output_type": "stream",
     "text": [
      " 61%|███████████████████████████████████████████████████▊                                 | 1296/2126 [19:14:51<8:01:43, 34.82s/it]"
     ]
    },
    {
     "name": "stdout",
     "output_type": "stream",
     "text": [
      "AVISO: Apalancamiento corregido de 2.56 a 1.50\n"
     ]
    },
    {
     "name": "stderr",
     "output_type": "stream",
     "text": [
      " 61%|████████████████████████████████████████████████████                                 | 1301/2126 [19:20:05<9:53:46, 43.18s/it]"
     ]
    },
    {
     "name": "stdout",
     "output_type": "stream",
     "text": [
      "AVISO: Apalancamiento corregido de 2.34 a 1.50\n"
     ]
    },
    {
     "name": "stderr",
     "output_type": "stream",
     "text": [
      " 61%|███████████████████████████████████████████████████▌                                | 1306/2126 [19:25:00<10:55:02, 47.93s/it]"
     ]
    },
    {
     "name": "stdout",
     "output_type": "stream",
     "text": [
      "AVISO: Apalancamiento corregido de 2.26 a 1.50\n"
     ]
    },
    {
     "name": "stderr",
     "output_type": "stream",
     "text": [
      " 62%|███████████████████████████████████████████████████▊                                | 1311/2126 [19:29:34<11:19:02, 49.99s/it]"
     ]
    },
    {
     "name": "stdout",
     "output_type": "stream",
     "text": [
      "AVISO: Apalancamiento corregido de 1.99 a 1.50\n",
      "Rebalanceo por cambio de régimen: 1 -> 3\n"
     ]
    },
    {
     "name": "stderr",
     "output_type": "stream",
     "text": [
      " 63%|█████████████████████████████████████████████████████▍                               | 1336/2126 [19:38:35<6:59:37, 31.87s/it]"
     ]
    },
    {
     "name": "stdout",
     "output_type": "stream",
     "text": [
      "Rebalanceo por cambio de régimen: 3 -> 0\n"
     ]
    },
    {
     "name": "stderr",
     "output_type": "stream",
     "text": [
      " 63%|█████████████████████████████████████████████████████▌                               | 1341/2126 [19:39:33<5:36:45, 25.74s/it]"
     ]
    },
    {
     "name": "stdout",
     "output_type": "stream",
     "text": [
      "AVISO: Apalancamiento corregido de 5.96 a 1.50\n"
     ]
    },
    {
     "name": "stderr",
     "output_type": "stream",
     "text": [
      " 63%|█████████████████████████████████████████████████████▊                               | 1346/2126 [19:41:06<5:06:38, 23.59s/it]"
     ]
    },
    {
     "name": "stdout",
     "output_type": "stream",
     "text": [
      "AVISO: Apalancamiento corregido de 4.39 a 1.50\n"
     ]
    },
    {
     "name": "stderr",
     "output_type": "stream",
     "text": [
      " 64%|██████████████████████████████████████████████████████                               | 1351/2126 [19:42:29<4:37:40, 21.50s/it]"
     ]
    },
    {
     "name": "stdout",
     "output_type": "stream",
     "text": [
      "AVISO: Apalancamiento corregido de 4.50 a 1.50\n",
      "Rebalanceo por cambio de régimen: 0 -> 4\n"
     ]
    },
    {
     "name": "stderr",
     "output_type": "stream",
     "text": [
      " 64%|██████████████████████████████████████████████████████▏                              | 1356/2126 [19:43:50<4:15:50, 19.94s/it]"
     ]
    }
   ],
   "source": [
    "import numpy as np\n",
    "import pandas as pd\n",
    "import yfinance as yf\n",
    "import matplotlib.pyplot as plt\n",
    "import seaborn as sns\n",
    "from sklearn.decomposition import PCA\n",
    "from sklearn.mixture import GaussianMixture, BayesianGaussianMixture\n",
    "from sklearn.preprocessing import StandardScaler\n",
    "from scipy.optimize import minimize\n",
    "from scipy.stats import norm\n",
    "import os\n",
    "import logging\n",
    "import warnings\n",
    "from datetime import datetime, timedelta\n",
    "import pickle\n",
    "from tqdm import tqdm\n",
    "\n",
    "# Crear directorios para resultados\n",
    "os.makedirs('./artifacts/results', exist_ok=True)\n",
    "os.makedirs('./artifacts/results/figures', exist_ok=True)\n",
    "os.makedirs('./artifacts/results/data', exist_ok=True)\n",
    "\n",
    "# Configurar logging\n",
    "logging.basicConfig(\n",
    "    filename='./artifacts/errors.txt',\n",
    "    level=logging.ERROR,\n",
    "    format='[%(asctime)s] %(levelname)s: %(message)s',\n",
    "    datefmt='%Y-%m-%d %H:%M:%S'\n",
    ")\n",
    "\n",
    "# Suprimir advertencias\n",
    "warnings.filterwarnings('ignore')\n",
    "\n",
    "class AdaptiveMultifactorStrategy:\n",
    "    def __init__(self, start_date='2010-01-01', end_date=None, symbols=None, \n",
    "                 lookback_window=252, regime_window=63, n_regimes=5, \n",
    "                 rebalance_freq=21, vol_target=0.10, max_leverage=1.5,\n",
    "                 transaction_cost=0.0005, market_impact=0.1, borrow_cost=0.0002,\n",
    "                 execution_delay=1, use_point_in_time=True, \n",
    "                 max_drawdown_limit=0.15, dynamic_vol_scaling=True,\n",
    "                 risk_targeting=True, regime_detection_method='bgmm'):\n",
    "        \"\"\"\n",
    "        Inicializa la estrategia de descomposición multifactorial adaptativa.\n",
    "        \n",
    "        Parámetros:\n",
    "        -----------\n",
    "        start_date : str\n",
    "            Fecha de inicio para los datos históricos (formato 'YYYY-MM-DD')\n",
    "        end_date : str\n",
    "            Fecha de fin para los datos históricos (formato 'YYYY-MM-DD')\n",
    "        symbols : list\n",
    "            Lista de símbolos a incluir. Si es None, se usa un universo de referencia histórico\n",
    "        lookback_window : int\n",
    "            Ventana de observación para calcular factores latentes (días)\n",
    "        regime_window : int\n",
    "            Ventana para detectar regímenes de mercado (días)\n",
    "        n_regimes : int\n",
    "            Número de regímenes de mercado a detectar\n",
    "        rebalance_freq : int\n",
    "            Frecuencia de rebalanceo en días\n",
    "        vol_target : float\n",
    "            Volatilidad objetivo anualizada\n",
    "        max_leverage : float\n",
    "            Apalancamiento máximo permitido\n",
    "        transaction_cost : float\n",
    "            Costo de transacción como porcentaje del valor operado\n",
    "        market_impact : float\n",
    "            Impacto de mercado como factor de volatilidad diaria\n",
    "        borrow_cost : float\n",
    "            Costo anualizado de tomar posiciones cortas\n",
    "        execution_delay : int\n",
    "            Retraso en días entre decisión y ejecución\n",
    "        use_point_in_time : bool\n",
    "            Usar datos point-in-time para evitar sesgo de supervivencia\n",
    "        max_drawdown_limit : float\n",
    "            Límite de drawdown máximo permitido antes de reducir exposición\n",
    "        dynamic_vol_scaling : bool\n",
    "            Usar scaling dinámico de volatilidad para ajustar exposición\n",
    "        risk_targeting : bool\n",
    "            Usar targeting dinámico de riesgo basado en regímenes\n",
    "        regime_detection_method : str\n",
    "            Método para detectar regímenes ('gmm' o 'bgmm')\n",
    "        \"\"\"\n",
    "        self.start_date = start_date\n",
    "        self.end_date = end_date if end_date else datetime.now().strftime('%Y-%m-%d')\n",
    "        self.symbols = symbols\n",
    "        self.lookback_window = lookback_window\n",
    "        self.regime_window = regime_window\n",
    "        self.n_regimes = n_regimes\n",
    "        self.rebalance_freq = rebalance_freq\n",
    "        self.vol_target = vol_target\n",
    "        self.max_leverage = max_leverage\n",
    "        \n",
    "        # Parámetros para implementación realista\n",
    "        self.transaction_cost = transaction_cost\n",
    "        self.market_impact = market_impact\n",
    "        self.borrow_cost = borrow_cost\n",
    "        self.execution_delay = execution_delay\n",
    "        self.use_point_in_time = use_point_in_time\n",
    "        \n",
    "        # Nuevos parámetros de mejora\n",
    "        self.max_drawdown_limit = max_drawdown_limit\n",
    "        self.dynamic_vol_scaling = dynamic_vol_scaling\n",
    "        self.risk_targeting = risk_targeting\n",
    "        self.regime_detection_method = regime_detection_method\n",
    "        \n",
    "        # Atributos que se inicializarán más tarde\n",
    "        self.prices = None\n",
    "        self.returns = None\n",
    "        self.factor_loadings = None\n",
    "        self.factor_returns = None\n",
    "        self.regimes = None\n",
    "        self.regime_probs = None\n",
    "        self.optimal_weights = None\n",
    "        self.performance = None\n",
    "        \n",
    "        # Parámetros adicionales para simulación realista\n",
    "        self.tradable_assets = None\n",
    "        self.max_position_size = 0.1\n",
    "        self.liquidity_threshold = 1000000\n",
    "        \n",
    "        # Cargar datos\n",
    "        self._load_data()\n",
    "        \n",
    "    def _load_data(self):\n",
    "        \"\"\"\n",
    "        Carga los datos históricos de precios y calcula retornos.\n",
    "        \"\"\"\n",
    "        try:\n",
    "            if self.symbols is None:\n",
    "                # Obtener S&P 500 actual\n",
    "                sp500 = pd.read_html('https://en.wikipedia.org/wiki/List_of_S%26P_500_companies')[0]\n",
    "                self.symbols = sp500['Symbol'].tolist()\n",
    "                \n",
    "                # Simular cambios en el universo a lo largo del tiempo\n",
    "                np.random.seed(42)\n",
    "                # self.symbols = [s for s in self.symbols if np.random.random() > 0.2]\n",
    "            \n",
    "            # Descargar datos\n",
    "            data = yf.download(self.symbols, start=self.start_date, end=self.end_date)\n",
    "            self.prices = data['Close']\n",
    "            self.volumes = data['Volume']\n",
    "            \n",
    "            # Limpiar y preparar datos\n",
    "            self.prices = self.prices.dropna(axis=1, thresh=int(len(self.prices) * 0.9))\n",
    "            self.symbols = list(self.prices.columns)\n",
    "            \n",
    "            # Calcular retornos diarios\n",
    "            self.returns = self.prices.pct_change().dropna()\n",
    "            \n",
    "            # Calcular volatilidades diarias para estimar impacto de mercado\n",
    "            self.daily_vol = self.returns.rolling(21).std().fillna(method='bfill')\n",
    "            \n",
    "            # Crear DataFrame para simular disponibilidad de activos\n",
    "            self.tradable_universe = pd.DataFrame(\n",
    "                True, \n",
    "                index=self.returns.index, \n",
    "                columns=self.returns.columns\n",
    "            )\n",
    "            \n",
    "            # Simular disponibilidad para posiciones cortas\n",
    "            self.shortable_universe = pd.DataFrame(\n",
    "                # np.random.random(self.tradable_universe.shape) > 0.3,\n",
    "                True, \n",
    "                index=self.tradable_universe.index,\n",
    "                columns=self.tradable_universe.columns\n",
    "            )\n",
    "            \n",
    "            # Filtrar por liquidez mínima\n",
    "            if 'Volume' in data.columns:\n",
    "                dollar_volumes = data['Volume'] * self.prices\n",
    "                \n",
    "                # Marca como no negociables los activos con baja liquidez\n",
    "                for date in self.tradable_universe.index:\n",
    "                    low_liquidity = dollar_volumes.loc[date] < self.liquidity_threshold\n",
    "                    self.tradable_universe.loc[date, low_liquidity] = False\n",
    "                    self.shortable_universe.loc[date, low_liquidity] = False\n",
    "            \n",
    "            print(f\"Datos cargados exitosamente. {len(self.symbols)} símbolos, {len(self.returns)} días de trading.\")\n",
    "            print(f\"En promedio, {self.tradable_universe.mean().mean()*100:.1f}% de los activos son negociables.\")\n",
    "            print(f\"En promedio, {self.shortable_universe.mean().mean()*100:.1f}% de los activos son susceptibles de posiciones cortas.\")\n",
    "            \n",
    "        except Exception as e:\n",
    "            logging.error(f\"Error al cargar datos: {str(e)}\", exc_info=True)\n",
    "            raise\n",
    "    \n",
    "    def extract_latent_factors(self, returns_window, n_components=None):\n",
    "        \"\"\"\n",
    "        Extrae factores latentes de los retornos usando PCA.\n",
    "        \n",
    "        Parámetros:\n",
    "        -----------\n",
    "        returns_window : DataFrame\n",
    "            Ventana de retornos para extraer factores\n",
    "        n_components : int, opcional\n",
    "            Número de componentes a extraer. Si es None, se determina automáticamente.\n",
    "            \n",
    "        Retorna:\n",
    "        --------\n",
    "        factor_loadings : ndarray\n",
    "            Cargas de los factores latentes\n",
    "        factor_returns : DataFrame\n",
    "            Retornos de los factores latentes\n",
    "        n_components : int\n",
    "            Número de componentes utilizados\n",
    "        \"\"\"\n",
    "        try:\n",
    "            # Manejar valores faltantes\n",
    "            returns_filled = returns_window.copy()\n",
    "            \n",
    "            # Usar imputación por media móvil para NaNs\n",
    "            for col in returns_filled.columns:\n",
    "                mask = returns_filled[col].isna()\n",
    "                if mask.any():\n",
    "                    returns_filled.loc[mask, col] = returns_filled[col].rolling(5, min_periods=1).mean()[mask]\n",
    "            \n",
    "            # Si aún hay NaNs, rellenar con ceros\n",
    "            returns_filled = returns_filled.fillna(0)\n",
    "            \n",
    "            # Determinar número óptimo de componentes si no se especifica\n",
    "            if n_components is None:\n",
    "                n_components = self.find_optimal_components(returns_filled)\n",
    "            \n",
    "            # Aplicar PCA\n",
    "            pca = PCA(n_components=n_components)\n",
    "            factor_returns_np = pca.fit_transform(returns_filled)\n",
    "            \n",
    "            # Convertir a DataFrame\n",
    "            factor_returns = pd.DataFrame(\n",
    "                factor_returns_np, \n",
    "                index=returns_window.index,\n",
    "                columns=[f'Factor_{i+1}' for i in range(n_components)]\n",
    "            )\n",
    "            \n",
    "            return pca.components_, factor_returns, n_components\n",
    "            \n",
    "        except Exception as e:\n",
    "            logging.error(f\"Error en extract_latent_factors: {str(e)}\", exc_info=True)\n",
    "            raise\n",
    "    \n",
    "    def find_optimal_components(self, returns_window, threshold=0.85, max_components=15):\n",
    "        \"\"\"\n",
    "        Determina el número óptimo de componentes principales.\n",
    "        \n",
    "        Parámetros:\n",
    "        -----------\n",
    "        returns_window : DataFrame\n",
    "            Ventana de retornos para analizar\n",
    "        threshold : float\n",
    "            Umbral de varianza explicada acumulada\n",
    "        max_components : int\n",
    "            Número máximo de componentes a considerar\n",
    "            \n",
    "        Retorna:\n",
    "        --------\n",
    "        n_components : int\n",
    "            Número óptimo de componentes\n",
    "        \"\"\"\n",
    "        try:\n",
    "            # Limitar el máximo posible de componentes\n",
    "            max_possible = min(returns_window.shape[1], returns_window.shape[0], max_components)\n",
    "            \n",
    "            # Calcular varianza explicada para diferentes números de componentes\n",
    "            pca = PCA(n_components=max_possible)\n",
    "            pca.fit(returns_window)\n",
    "            \n",
    "            # Encontrar el número de componentes que explican al menos threshold de la varianza\n",
    "            explained_variance_ratio_cumsum = np.cumsum(pca.explained_variance_ratio_)\n",
    "            n_components = np.argmax(explained_variance_ratio_cumsum >= threshold) + 1\n",
    "            \n",
    "            # Asegurar un mínimo de componentes\n",
    "            n_components = max(n_components, 3)\n",
    "            \n",
    "            return n_components\n",
    "            \n",
    "        except Exception as e:\n",
    "            logging.error(f\"Error en find_optimal_components: {str(e)}\", exc_info=True)\n",
    "            # Valor por defecto en caso de error\n",
    "            return 5\n",
    "    \n",
    "    def detect_regimes(self, factor_returns, n_regimes=None):\n",
    "        \"\"\"\n",
    "        Detecta regímenes de mercado usando modelos de mezcla gaussiana.\n",
    "        \n",
    "        Parámetros:\n",
    "        -----------\n",
    "        factor_returns : DataFrame\n",
    "            Retornos de los factores latentes\n",
    "        n_regimes : int, opcional\n",
    "            Número de regímenes a detectar. Si es None, se usa self.n_regimes.\n",
    "            \n",
    "        Retorna:\n",
    "        --------\n",
    "        regimes : ndarray\n",
    "            Etiquetas de régimen para cada punto temporal\n",
    "        regime_probs : ndarray\n",
    "            Probabilidades de pertenencia a cada régimen\n",
    "        \"\"\"\n",
    "        try:\n",
    "            if n_regimes is None:\n",
    "                n_regimes = self.n_regimes\n",
    "            \n",
    "            # MEJORA: Usar más características para detectar regímenes\n",
    "            # 1. Volatilidad\n",
    "            vol = factor_returns.rolling(21).std().dropna()\n",
    "            \n",
    "            # 2. Correlación entre factores\n",
    "            # Calcular ventana de correlación\n",
    "            corr_matrices = []\n",
    "            for i in range(21, len(factor_returns)):\n",
    "                window = factor_returns.iloc[i-21:i]\n",
    "                corr_matrix = window.corr().values\n",
    "                # Aplanar la parte triangular superior de la matriz\n",
    "                corr_upper = corr_matrix[np.triu_indices(corr_matrix.shape[0], k=1)]\n",
    "                corr_matrices.append(corr_upper)\n",
    "            \n",
    "            # Convertir a DataFrame\n",
    "            if corr_matrices:\n",
    "                corr_df = pd.DataFrame(\n",
    "                    corr_matrices,\n",
    "                    index=factor_returns.index[21:],\n",
    "                    columns=[f'Corr_{i}_{j}' for i, j in zip(*np.triu_indices(factor_returns.shape[1], k=1))]\n",
    "                )\n",
    "                \n",
    "                # Alinear índices\n",
    "                vol = vol.loc[corr_df.index[0]:].copy()\n",
    "                \n",
    "                # Combinar características\n",
    "                features = pd.concat([vol, corr_df], axis=1)\n",
    "            else:\n",
    "                features = vol.copy()\n",
    "            \n",
    "            # Estandarizar características\n",
    "            scaler = StandardScaler()\n",
    "            features_scaled = scaler.fit_transform(features)\n",
    "            \n",
    "            # MEJORA: Usar método más robusto para detectar regímenes\n",
    "            if self.regime_detection_method == 'bgmm':\n",
    "                # Bayesian Gaussian Mixture Model es más robusto para detectar regímenes\n",
    "                gmm = BayesianGaussianMixture(\n",
    "                    n_components=n_regimes,\n",
    "                    covariance_type='full',\n",
    "                    random_state=42,\n",
    "                    n_init=10,\n",
    "                    weight_concentration_prior=0.1  # Favorece usar menos componentes si es posible\n",
    "                )\n",
    "            else:\n",
    "                # GMM estándar\n",
    "                gmm = GaussianMixture(\n",
    "                    n_components=n_regimes,\n",
    "                    covariance_type='full',\n",
    "                    random_state=42,\n",
    "                    n_init=10\n",
    "                )\n",
    "            \n",
    "            # Manejar NaNs\n",
    "            features_scaled_clean = np.nan_to_num(features_scaled)\n",
    "            \n",
    "            # Ajustar modelo\n",
    "            gmm.fit(features_scaled_clean)\n",
    "            \n",
    "            # Predecir regímenes y probabilidades\n",
    "            regimes = gmm.predict(features_scaled_clean)\n",
    "            regime_probs = gmm.predict_proba(features_scaled_clean)\n",
    "            \n",
    "            # MEJORA: Ordenar regímenes por volatilidad para que sean consistentes entre ejecuciones\n",
    "            # Calcular volatilidad media por régimen\n",
    "            regime_vol = {}\n",
    "            for r in range(n_regimes):\n",
    "                regime_mask = (regimes == r)\n",
    "                if np.any(regime_mask):\n",
    "                    regime_vol[r] = np.mean(vol.iloc[regime_mask].mean())\n",
    "                else:\n",
    "                    regime_vol[r] = 0\n",
    "            \n",
    "            # Ordenar regímenes por volatilidad (ascendente)\n",
    "            regime_map = {old: new for new, (old, _) in enumerate(sorted(regime_vol.items(), key=lambda x: x[1]))}\n",
    "            \n",
    "            # Reordenar regímenes y probabilidades\n",
    "            new_regimes = np.array([regime_map[r] for r in regimes])\n",
    "            new_probs = np.zeros_like(regime_probs)\n",
    "            for old, new in regime_map.items():\n",
    "                new_probs[:, new] = regime_probs[:, old]\n",
    "            \n",
    "            return new_regimes, new_probs\n",
    "            \n",
    "        except Exception as e:\n",
    "            logging.error(f\"Error en detect_regimes: {str(e)}\", exc_info=True)\n",
    "            # Valores por defecto en caso de error\n",
    "            dummy_regimes = np.zeros(len(features) if 'features' in locals() else len(factor_returns) - 20)\n",
    "            dummy_probs = np.ones((len(dummy_regimes), self.n_regimes)) / self.n_regimes\n",
    "            return dummy_regimes, dummy_probs\n",
    "    \n",
    "    def predict_expected_returns(self, returns_window, regimes, current_regime_probs, horizon=10):\n",
    "        \"\"\"\n",
    "        MEJORA: Método de predicción de retornos más robusto con múltiples horizontes\n",
    "        \n",
    "        Parámetros:\n",
    "        -----------\n",
    "        returns_window : DataFrame\n",
    "            Ventana histórica de retornos\n",
    "        regimes : ndarray\n",
    "            Etiquetas de régimen para cada punto temporal\n",
    "        current_regime_probs : ndarray\n",
    "            Probabilidades de pertenencia a cada régimen en el momento actual\n",
    "        horizon : int\n",
    "            Horizonte de predicción en días\n",
    "            \n",
    "        Retorna:\n",
    "        --------\n",
    "        expected_returns : Series\n",
    "            Retornos esperados para cada activo\n",
    "        prediction_confidence : Series\n",
    "            Confianza en las predicciones\n",
    "        \"\"\"\n",
    "        try:\n",
    "            n_assets = returns_window.shape[1]\n",
    "            \n",
    "            # MEJORA: Usar múltiples horizontes para predicción más robusta\n",
    "            horizons = [5, 10, 21]  # 1 semana, 2 semanas, 1 mes\n",
    "            horizon_weights = [0.5, 0.3, 0.2]  # Priorizar horizontes más cortos\n",
    "            \n",
    "            # Inicializar arrays para retornos esperados por régimen y horizonte\n",
    "            regime_expected_returns = np.zeros((self.n_regimes, len(horizons), n_assets))\n",
    "            regime_counts = np.zeros(self.n_regimes)\n",
    "            \n",
    "            # Para cada régimen, calcular retornos esperados basados en datos históricos\n",
    "            for r in range(self.n_regimes):\n",
    "                # Encontrar índices donde el régimen es r\n",
    "                regime_indices = np.where(regimes == r)[0]\n",
    "                regime_counts[r] = len(regime_indices)\n",
    "                \n",
    "                if len(regime_indices) > 0:\n",
    "                    # Para cada horizonte, calcular retornos futuros\n",
    "                    for h_idx, h in enumerate(horizons):\n",
    "                        all_future_returns = []\n",
    "                        \n",
    "                        for idx in regime_indices:\n",
    "                            # Solo considerar datos completos para evitar look-ahead bias\n",
    "                            if idx + h < len(returns_window) - 1:\n",
    "                                # Próximos 'h' días después de este régimen\n",
    "                                future_returns = returns_window.iloc[idx+1:idx+1+h].values\n",
    "                                # Calcular retorno acumulado\n",
    "                                cum_returns = np.prod(1 + future_returns, axis=0) - 1\n",
    "                                all_future_returns.append(cum_returns)\n",
    "                        \n",
    "                        if all_future_returns:\n",
    "                            # Promediar los retornos futuros para este régimen y horizonte\n",
    "                            all_future_returns = np.array(all_future_returns)\n",
    "                            # MEJORA: Usar mediana para mayor robustez ante outliers\n",
    "                            regime_expected_returns[r, h_idx] = np.median(all_future_returns, axis=0)\n",
    "            \n",
    "            # MEJORA: Calcular retornos esperados ponderados por régimen y horizonte\n",
    "            expected_returns = np.zeros(n_assets)\n",
    "            for r in range(self.n_regimes):\n",
    "                regime_weight = current_regime_probs[r]\n",
    "                # Ajustar peso por la cantidad de datos (más datos = más confianza)\n",
    "                confidence_weight = min(1.0, regime_counts[r] / 30)\n",
    "                \n",
    "                # Calcular retorno esperado ponderado para cada horizonte\n",
    "                for h_idx, hw in enumerate(horizon_weights):\n",
    "                    expected_returns += regime_weight * regime_expected_returns[r, h_idx] * confidence_weight * hw\n",
    "            \n",
    "            # MEJORA: Ajustar por autocorrelación - añadir componente de momentum/reversal\n",
    "            short_momentum = returns_window.iloc[-5:].mean() * 0.2  # Momentum de corto plazo (5 días)\n",
    "            long_momentum = returns_window.iloc[-21:].mean() * 0.1  # Momentum de largo plazo (21 días)\n",
    "            \n",
    "            # Combinar señales\n",
    "            expected_returns = pd.Series(expected_returns, index=returns_window.columns) + short_momentum - long_momentum\n",
    "            \n",
    "            # Calcular confianza de predicción\n",
    "            regime_certainty = np.max(current_regime_probs)\n",
    "            data_sufficiency = np.min([count for count in regime_counts if count > 0]) / 30 if any(regime_counts > 0) else 0\n",
    "            prediction_confidence = pd.Series(regime_certainty * data_sufficiency, index=returns_window.columns)\n",
    "            \n",
    "            # MEJORA: Ajustar retornos esperados por volatilidad reciente\n",
    "            recent_vol = returns_window.iloc[-21:].std()\n",
    "            vol_scale = np.clip(self.vol_target / (recent_vol * np.sqrt(252)), 0.5, 2.0)\n",
    "            expected_returns *= vol_scale\n",
    "            \n",
    "            return expected_returns, prediction_confidence\n",
    "            \n",
    "        except Exception as e:\n",
    "            logging.error(f\"Error en predict_expected_returns: {str(e)}\", exc_info=True)\n",
    "            # Valores por defecto en caso de error\n",
    "            dummy_returns = pd.Series(0.0001, index=returns_window.columns)\n",
    "            dummy_confidence = pd.Series(0.1, index=returns_window.columns)\n",
    "            return dummy_returns, dummy_confidence\n",
    "    \n",
    "    def calculate_risk_budget(self, current_regime, regime_certainty, market_vol):\n",
    "        \"\"\"\n",
    "        MEJORA: Calcula dinámicamente el presupuesto de riesgo según condiciones del mercado\n",
    "        \n",
    "        Parámetros:\n",
    "        -----------\n",
    "        current_regime : int\n",
    "            Régimen de mercado actual\n",
    "        regime_certainty : float\n",
    "            Certeza sobre el régimen actual\n",
    "        market_vol : float\n",
    "            Volatilidad reciente del mercado\n",
    "        \n",
    "        Retorna:\n",
    "        --------\n",
    "        risk_budget : dict\n",
    "            Parámetros de riesgo para la optimización\n",
    "        \"\"\"\n",
    "        # Volatilidad normalizada (>1 significa alta volatilidad, <1 significa baja volatilidad)\n",
    "        vol_normalized = market_vol / self.vol_target\n",
    "        \n",
    "        # Factor de escala para la aversión al riesgo (mayor en volatilidad alta)\n",
    "        risk_aversion_scale = np.clip(vol_normalized, 0.5, 3.0)\n",
    "        \n",
    "        # Aversión al riesgo base según régimen\n",
    "        # Regímenes fueron ordenados por volatilidad, así que mayor número = mayor volatilidad\n",
    "        base_risk_aversion = 1.0 + current_regime * 0.5\n",
    "        \n",
    "        # Ajustar por certeza del régimen (menor certeza = mayor aversión)\n",
    "        certainty_adjustment = 1.0 + (1.0 - regime_certainty) * 2.0\n",
    "        \n",
    "        # Aversión al riesgo final\n",
    "        final_risk_aversion = base_risk_aversion * certainty_adjustment * risk_aversion_scale\n",
    "        \n",
    "        # Ajustar leverage máximo según condiciones\n",
    "        leverage_scale = 1.0\n",
    "        \n",
    "        # En regímenes de alta volatilidad, reducir apalancamiento\n",
    "        if current_regime >= self.n_regimes - 2:  # Dos regímenes más volátiles\n",
    "            leverage_scale *= 0.7\n",
    "        \n",
    "        # Si volatilidad es muy alta, reducir aún más\n",
    "        if vol_normalized > 1.5:\n",
    "            leverage_scale *= 0.7\n",
    "        \n",
    "        # Si certeza es baja, reducir apalancamiento\n",
    "        if regime_certainty < 0.5:\n",
    "            leverage_scale *= 0.9\n",
    "        \n",
    "        # Calcular apalancamiento máximo objetivo (nunca mayor al configurado)\n",
    "        target_max_leverage = min(self.max_leverage * leverage_scale, self.max_leverage)\n",
    "        \n",
    "        # Límites para posiciones cortas según régimen y volatilidad\n",
    "        if current_regime <= 1 and vol_normalized < 1.2:  # Regímenes de baja volatilidad\n",
    "            short_limit = -0.3  # Permitir más posiciones cortas\n",
    "        elif current_regime <= 2 and vol_normalized < 1.5:  # Regímenes moderados\n",
    "            short_limit = -0.2  # Posiciones cortas moderadas\n",
    "        elif current_regime <= 3:  # Regímenes de mayor volatilidad\n",
    "            short_limit = -0.1  # Pocas posiciones cortas\n",
    "        else:  # Regímenes de alta volatilidad\n",
    "            short_limit = -0.05  # Muy pocas posiciones cortas\n",
    "        \n",
    "        # Tamaño máximo de posición ajustado por régimen\n",
    "        position_size_scale = np.clip(1.5 - current_regime * 0.2, 0.5, 1.0)\n",
    "        max_position_size = self.max_position_size * position_size_scale\n",
    "        \n",
    "        # Devolver presupuesto de riesgo\n",
    "        return {\n",
    "            'risk_aversion': final_risk_aversion,\n",
    "            'max_leverage': target_max_leverage,\n",
    "            'short_limit': short_limit,\n",
    "            'max_position_size': max_position_size\n",
    "        }\n",
    "    \n",
    "    def optimize_portfolio(self, expected_returns, factor_loadings, prediction_confidence, \n",
    "                          current_regime, regime_certainty, current_date, \n",
    "                          previous_weights=None, current_drawdown=0.0,\n",
    "                          market_vol=0.15):\n",
    "        \"\"\"\n",
    "        MEJORA: Optimiza el portafolio con control dinámico de riesgo\n",
    "        \n",
    "        Parámetros:\n",
    "        -----------\n",
    "        expected_returns : Series\n",
    "            Retornos esperados para cada activo\n",
    "        factor_loadings : ndarray\n",
    "            Cargas de los factores latentes\n",
    "        prediction_confidence : Series\n",
    "            Confianza en las predicciones\n",
    "        current_regime : int\n",
    "            Régimen de mercado actual\n",
    "        regime_certainty : float\n",
    "            Certeza sobre el régimen actual\n",
    "        current_date : Timestamp\n",
    "            Fecha actual para determinar activos negociables\n",
    "        previous_weights : Series, opcional\n",
    "            Pesos del portafolio previo\n",
    "        current_drawdown : float\n",
    "            Drawdown actual del portafolio\n",
    "        market_vol : float\n",
    "            Volatilidad reciente del mercado anualizada\n",
    "            \n",
    "        Retorna:\n",
    "        --------\n",
    "        weights : Series\n",
    "            Pesos óptimos para cada activo\n",
    "        \"\"\"\n",
    "        try:\n",
    "            n_assets = len(expected_returns)\n",
    "            assets = expected_returns.index\n",
    "            \n",
    "            # Determinar activos negociables en la fecha actual\n",
    "            if current_date in self.tradable_universe.index:\n",
    "                tradable_assets = assets[self.tradable_universe.loc[current_date, assets]]\n",
    "                shortable_assets = assets[self.shortable_universe.loc[current_date, assets]]\n",
    "            else:\n",
    "                # Si fecha no disponible, usar más reciente\n",
    "                last_available = self.tradable_universe.index[self.tradable_universe.index <= current_date]\n",
    "                if len(last_available) > 0:\n",
    "                    last_available = last_available[-1]\n",
    "                    tradable_assets = assets[self.tradable_universe.loc[last_available, assets]]\n",
    "                    shortable_assets = assets[self.shortable_universe.loc[last_available, assets]]\n",
    "                else:\n",
    "                    # Fallback: asumir todos negociables\n",
    "                    tradable_assets = assets\n",
    "                    shortable_assets = assets\n",
    "            \n",
    "            # Filtrar activos no negociables\n",
    "            filtered_returns = expected_returns.copy()\n",
    "            for asset in assets:\n",
    "                if asset not in tradable_assets:\n",
    "                    filtered_returns[asset] = np.nan\n",
    "            \n",
    "            # Rellenar NaNs con valores muy negativos para evitar seleccionarlos\n",
    "            filtered_returns = filtered_returns.fillna(-999)\n",
    "            \n",
    "            # MEJORA: Usar presupuesto de riesgo dinámico\n",
    "            risk_budget = self.calculate_risk_budget(current_regime, regime_certainty, market_vol)\n",
    "            adjusted_risk_aversion = risk_budget['risk_aversion']\n",
    "            target_max_leverage = risk_budget['max_leverage']\n",
    "            short_limit = risk_budget['short_limit']\n",
    "            max_position_size = risk_budget['max_position_size']\n",
    "            \n",
    "            # MEJORA: Reducir exposición si drawdown se acerca al límite\n",
    "            drawdown_factor = 1.0\n",
    "            if self.max_drawdown_limit > 0 and current_drawdown > 0:\n",
    "                # Reducir exposición progresivamente a medida que se acerca al límite\n",
    "                drawdown_ratio = current_drawdown / self.max_drawdown_limit\n",
    "                if drawdown_ratio > 0.5:\n",
    "                    drawdown_factor = max(0.5, 1.0 - (drawdown_ratio - 0.5) * 2.0)\n",
    "                    print(f\"Reduciendo exposición por drawdown: factor = {drawdown_factor:.2f}\")\n",
    "            \n",
    "            # Ajustar apalancamiento máximo por drawdown\n",
    "            target_max_leverage *= drawdown_factor\n",
    "            \n",
    "            # Calcular matriz de covarianza basada en factores latentes\n",
    "            factor_cov = np.cov(factor_loadings)\n",
    "            asset_cov = factor_loadings.T @ factor_cov @ factor_loadings\n",
    "            \n",
    "            # Asegurar que la matriz es definida positiva\n",
    "            asset_cov = (asset_cov + asset_cov.T) / 2\n",
    "            min_eig = np.min(np.real(np.linalg.eigvals(asset_cov)))\n",
    "            if min_eig < 1e-6:\n",
    "                asset_cov += np.eye(n_assets) * (1e-6 - min_eig)\n",
    "            \n",
    "            # Ajustar retornos esperados por confianza\n",
    "            adjusted_returns = filtered_returns * prediction_confidence\n",
    "            \n",
    "            # Considerar costos de préstamo para posiciones cortas\n",
    "            borrow_costs = pd.Series(0.0, index=assets)\n",
    "            for asset in assets:\n",
    "                if asset not in shortable_assets:\n",
    "                    borrow_costs[asset] = 0.1  # Penalización alta para activos no shortables\n",
    "                else:\n",
    "                    borrow_costs[asset] = self.borrow_cost / 252\n",
    "            \n",
    "            # Incluir costos de transacción estimados\n",
    "            if previous_weights is not None:\n",
    "                # Estimar impacto de mercado basado en volatilidad\n",
    "                market_impact_cost = pd.Series(0.0, index=assets)\n",
    "                for asset in assets:\n",
    "                    if asset in self.daily_vol.columns and current_date in self.daily_vol.index:\n",
    "                        vol = self.daily_vol.loc[current_date, asset]\n",
    "                        market_impact_cost[asset] = vol * self.market_impact\n",
    "                    else:\n",
    "                        market_impact_cost[asset] = 0.02 * self.market_impact\n",
    "            else:\n",
    "                market_impact_cost = pd.Series(0.0, index=assets)\n",
    "                previous_weights = pd.Series(0.0, index=assets)\n",
    "            \n",
    "            # MEJORA: Función objetivo mejorada con más controles\n",
    "            def objective(weights):\n",
    "                weights_series = pd.Series(weights, index=assets)\n",
    "                \n",
    "                # Retorno esperado\n",
    "                portfolio_return = np.sum(weights_series * adjusted_returns)\n",
    "                \n",
    "                # Riesgo\n",
    "                portfolio_risk = np.sqrt(weights_series.T @ asset_cov @ weights_series)\n",
    "                \n",
    "                # Costos de transacción\n",
    "                turnover = np.sum(np.abs(weights_series - previous_weights))\n",
    "                transaction_costs = turnover * self.transaction_cost\n",
    "                \n",
    "                # Impacto de mercado estimado\n",
    "                impact_costs = np.sum(np.abs(weights_series - previous_weights) * market_impact_cost)\n",
    "                \n",
    "                # Costos de préstamo para posiciones cortas\n",
    "                short_costs = np.sum(np.maximum(-weights_series, 0) * borrow_costs)\n",
    "                \n",
    "                # MEJORA: Penalización para diversificación\n",
    "                concentration_penalty = np.sum(weights_series ** 2) * adjusted_risk_aversion * 0.5\n",
    "                \n",
    "                # Utilidad final: retorno - riesgo - costos - concentración\n",
    "                utility = (portfolio_return \n",
    "                           - adjusted_risk_aversion * portfolio_risk \n",
    "                           - transaction_costs \n",
    "                           - impact_costs \n",
    "                           - short_costs\n",
    "                           - concentration_penalty)\n",
    "                \n",
    "                return -utility  # Negativo porque minimizamos\n",
    "            \n",
    "            # Restricciones\n",
    "            constraints = [\n",
    "                {'type': 'eq', 'fun': lambda x: np.sum(x) - 1.0}  # Suma de pesos = 1\n",
    "            ]\n",
    "            \n",
    "            # Límites en las posiciones\n",
    "            bounds = []\n",
    "            for asset in assets:\n",
    "                if asset not in tradable_assets:\n",
    "                    # Activo no negociable\n",
    "                    bounds.append((0, 0))\n",
    "                elif asset not in shortable_assets:\n",
    "                    # Activo negociable pero no shortable\n",
    "                    bounds.append((0, min(1.0, max_position_size)))\n",
    "                else:\n",
    "                    # Activo completamente negociable\n",
    "                    # Ajustar límites según régimen actual\n",
    "                    asset_short_limit = short_limit\n",
    "                    bounds.append((max(asset_short_limit, -max_position_size), min(1.0, max_position_size)))\n",
    "            \n",
    "            # Solución inicial: pesos previos o iguales si no hay previos\n",
    "            if previous_weights is not None and not previous_weights.isna().any():\n",
    "                initial_weights = previous_weights.values\n",
    "            else:\n",
    "                # Sólo asignar a activos negociables\n",
    "                initial_weights = np.zeros(n_assets)\n",
    "                tradable_indices = [i for i, asset in enumerate(assets) if asset in tradable_assets]\n",
    "                if tradable_indices:\n",
    "                    initial_weights[tradable_indices] = 1.0 / len(tradable_indices)\n",
    "            \n",
    "            # Optimizar\n",
    "            result = minimize(\n",
    "                objective,\n",
    "                initial_weights,\n",
    "                method='SLSQP',\n",
    "                bounds=bounds,\n",
    "                constraints=constraints,\n",
    "                options={'maxiter': 1000, 'ftol': 1e-8}\n",
    "            )\n",
    "            \n",
    "            if not result.success:\n",
    "                logging.warning(f\"Optimización no convergió: {result.message}\")\n",
    "                # Usar pesos iniciales como fallback\n",
    "                optimal_weights = pd.Series(initial_weights, index=assets)\n",
    "            else:\n",
    "                optimal_weights = pd.Series(result.x, index=assets)\n",
    "            \n",
    "            # Eliminar posiciones muy pequeñas (menor a 0.1%)\n",
    "            small_positions = np.abs(optimal_weights) < 0.001\n",
    "            optimal_weights[small_positions] = 0.0\n",
    "            \n",
    "            # Renormalizar para asegurar suma = 1.0\n",
    "            if optimal_weights.sum() != 0:\n",
    "                optimal_weights = optimal_weights / optimal_weights.sum()\n",
    "            \n",
    "            # MEJORA: Aplicar control de volatilidad objetivo\n",
    "            expected_vol = np.sqrt(optimal_weights.T @ asset_cov @ optimal_weights) * np.sqrt(252)\n",
    "            \n",
    "            if expected_vol > 0:\n",
    "                # Escalar según volatilidad objetivo\n",
    "                vol_scalar = min(self.vol_target / expected_vol, target_max_leverage)\n",
    "                \n",
    "                # MEJORA: Reducir volatilidad en regímenes de alta volatilidad\n",
    "                if current_regime >= self.n_regimes - 1:  # Régimen más volátil\n",
    "                    vol_scalar *= 0.7\n",
    "                elif current_regime >= self.n_regimes - 2:  # Segundo régimen más volátil\n",
    "                    vol_scalar *= 0.85\n",
    "            else:\n",
    "                vol_scalar = 1.0\n",
    "            \n",
    "            # MEJORA: Asegurar que el apalancamiento final nunca excede el máximo permitido\n",
    "            # Esto es clave para arreglar el problema principal\n",
    "            leverage = min(vol_scalar, target_max_leverage)\n",
    "            \n",
    "            # Calcular apalancamiento bruto (suma de valores absolutos)\n",
    "            gross_leverage = np.sum(np.abs(optimal_weights * leverage))\n",
    "            \n",
    "            # Verificar que no excede el máximo permitido\n",
    "            if gross_leverage > self.max_leverage:\n",
    "                # Reducir proporcionalmente\n",
    "                correction_factor = self.max_leverage / gross_leverage\n",
    "                leverage *= correction_factor\n",
    "                print(f\"AVISO: Apalancamiento corregido de {gross_leverage:.2f} a {self.max_leverage:.2f}\")\n",
    "            \n",
    "            # Ajustar pesos finales\n",
    "            final_weights = optimal_weights * leverage\n",
    "            \n",
    "            # Verificación final de apalancamiento bruto\n",
    "            final_gross_leverage = np.sum(np.abs(final_weights))\n",
    "            if final_gross_leverage > self.max_leverage + 1e-6:\n",
    "                logging.warning(f\"Apalancamiento final {final_gross_leverage:.4f} excede el máximo {self.max_leverage}\")\n",
    "                # Corrección de emergencia\n",
    "                final_weights = final_weights * (self.max_leverage / final_gross_leverage)\n",
    "            \n",
    "            return final_weights\n",
    "            \n",
    "        except Exception as e:\n",
    "            logging.error(f\"Error en optimize_portfolio: {str(e)}\", exc_info=True)\n",
    "            # Valor por defecto: pesos iguales en activos negociables\n",
    "            if current_date in self.tradable_universe.index:\n",
    "                tradable_mask = self.tradable_universe.loc[current_date, assets]\n",
    "            else:\n",
    "                tradable_mask = pd.Series(True, index=assets)\n",
    "            \n",
    "            default_weights = pd.Series(0.0, index=assets)\n",
    "            tradable_assets = assets[tradable_mask]\n",
    "            if len(tradable_assets) > 0:\n",
    "                default_weights[tradable_assets] = 1.0 / len(tradable_assets)\n",
    "            return default_weights\n",
    "    \n",
    "    def check_regime_change_rebalance(self, current_date_idx, backtest_dates, current_regime, regimes_history):\n",
    "        \"\"\"\n",
    "        MEJORA: Verifica si se debe rebalancear por cambio de régimen.\n",
    "        \n",
    "        Parámetros:\n",
    "        -----------\n",
    "        current_date_idx : int\n",
    "            Índice de la fecha actual\n",
    "        backtest_dates : DatetimeIndex\n",
    "            Fechas del backtest\n",
    "        current_regime : int\n",
    "            Régimen actual\n",
    "        regimes_history : list\n",
    "            Historial de regímenes\n",
    "            \n",
    "        Retorna:\n",
    "        --------\n",
    "        should_rebalance : bool\n",
    "            True si se debe rebalancear por cambio de régimen\n",
    "        \"\"\"\n",
    "        # Si es la primera fecha, no hay cambio de régimen\n",
    "        if current_date_idx == 0 or len(regimes_history) == 0:\n",
    "            return False\n",
    "        \n",
    "        # Si ya pasaron menos de 5 días desde el último rebalanceo, no rebalancear\n",
    "        last_rebalance_idx = max([i for i, r in enumerate(regimes_history) if r is not None], default=-1)\n",
    "        if current_date_idx - last_rebalance_idx < 5:\n",
    "            return False\n",
    "        \n",
    "        # Verificar si el régimen ha cambiado desde el último rebalanceo\n",
    "        last_regime = next((r for r in reversed(regimes_history) if r is not None), None)\n",
    "        if last_regime is not None and current_regime != last_regime:\n",
    "            # Solo rebalancear si el cambio es significativo (distancia > 1)\n",
    "            if abs(current_regime - last_regime) > 1:\n",
    "                print(f\"Rebalanceo por cambio de régimen: {last_regime} -> {current_regime}\")\n",
    "                return True\n",
    "        \n",
    "        return False\n",
    "    \n",
    "    def calculate_dynamic_rebalance_freq(self, current_regime, market_vol):\n",
    "        \"\"\"\n",
    "        MEJORA: Calcula frecuencia de rebalanceo dinámica basada en régimen y volatilidad.\n",
    "        \n",
    "        Parámetros:\n",
    "        -----------\n",
    "        current_regime : int\n",
    "            Régimen actual\n",
    "        market_vol : float\n",
    "            Volatilidad anualizada reciente\n",
    "            \n",
    "        Retorna:\n",
    "        --------\n",
    "        rebalance_freq : int\n",
    "            Frecuencia de rebalanceo en días\n",
    "        \"\"\"\n",
    "        base_freq = self.rebalance_freq\n",
    "        \n",
    "        # En regímenes de alta volatilidad, rebalancear más frecuentemente\n",
    "        if current_regime >= self.n_regimes - 1:  # Régimen más volátil\n",
    "            base_freq = max(5, base_freq // 3)\n",
    "        elif current_regime >= self.n_regimes - 2:  # Segundo régimen más volátil\n",
    "            base_freq = max(10, base_freq // 2)\n",
    "        \n",
    "        # Si volatilidad es muy alta o muy baja, ajustar frecuencia\n",
    "        vol_ratio = market_vol / self.vol_target\n",
    "        if vol_ratio > 2.0:\n",
    "            base_freq = max(5, base_freq // 2)\n",
    "        elif vol_ratio < 0.5:\n",
    "            base_freq = min(42, base_freq * 2)\n",
    "        \n",
    "        return base_freq\n",
    "    \n",
    "    def backtest(self, start_date=None, end_date=None):\n",
    "        \"\"\"\n",
    "        MEJORA: Backtest con control dinámico de riesgo y rebalanceo adaptativo.\n",
    "        \n",
    "        Parámetros:\n",
    "        -----------\n",
    "        start_date : str, opcional\n",
    "            Fecha de inicio del backtest (formato 'YYYY-MM-DD')\n",
    "        end_date : str, opcional\n",
    "            Fecha de fin del backtest (formato 'YYYY-MM-DD')\n",
    "            \n",
    "        Retorna:\n",
    "        --------\n",
    "        performance : DataFrame\n",
    "            Resultados del backtest incluyendo retornos, drawdowns, etc.\n",
    "        \"\"\"\n",
    "        try:\n",
    "            # Configurar fechas\n",
    "            if start_date is None:\n",
    "                start_date = self.returns.index[self.lookback_window]\n",
    "            else:\n",
    "                start_date = pd.to_datetime(start_date)\n",
    "            \n",
    "            if end_date is None:\n",
    "                end_date = self.returns.index[-1]\n",
    "            else:\n",
    "                end_date = pd.to_datetime(end_date)\n",
    "            \n",
    "            # Filtrar datos por fechas\n",
    "            mask = (self.returns.index >= start_date) & (self.returns.index <= end_date)\n",
    "            backtest_dates = self.returns.index[mask]\n",
    "            \n",
    "            # Inicializar resultados\n",
    "            portfolio_values = [1.0]\n",
    "            portfolio_returns = []\n",
    "            weights_history = []\n",
    "            regime_history = []\n",
    "            drawdown_history = [0.0]\n",
    "            leverage_history = []\n",
    "            pending_orders = {}\n",
    "            \n",
    "            # Inicializar pesos (comenzar con efectivo)\n",
    "            current_weights = pd.Series(0, index=self.returns.columns)\n",
    "            \n",
    "            # Para rebalanceo dinámico\n",
    "            next_rebalance_date = None\n",
    "            dynamic_rebalance_freq = self.rebalance_freq\n",
    "            \n",
    "            # Ejecutar backtest\n",
    "            for i, date in enumerate(tqdm(backtest_dates)):\n",
    "                # Manejar órdenes pendientes\n",
    "                if date in pending_orders:\n",
    "                    order_date, target_weights = pending_orders[date]\n",
    "                    current_weights = target_weights.copy()\n",
    "                    del pending_orders[date]\n",
    "                \n",
    "                # Determinar si es momento de rebalancear\n",
    "                should_rebalance = False\n",
    "                \n",
    "                # Rebalancear en la primera fecha\n",
    "                if i == 0:\n",
    "                    should_rebalance = True\n",
    "                    next_rebalance_date = None\n",
    "                \n",
    "                # MEJORA: Rebalanceo con frecuencia dinámica\n",
    "                if next_rebalance_date is None or date >= next_rebalance_date:\n",
    "                    should_rebalance = True\n",
    "                \n",
    "                # Obtener datos hasta la fecha actual\n",
    "                current_idx = self.returns.index.get_loc(date)\n",
    "                history_end_idx = current_idx\n",
    "                history_start_idx = max(0, history_end_idx - self.lookback_window)\n",
    "                \n",
    "                returns_window = self.returns.iloc[history_start_idx:history_end_idx]\n",
    "                \n",
    "                # Calcular volatilidad del mercado para ajustes dinámicos\n",
    "                market_vol = returns_window.mean(axis=1).rolling(21).std().iloc[-1] * np.sqrt(252) if len(returns_window) > 21 else 0.15\n",
    "                \n",
    "                # Detectar regímenes solo si es necesario para rebalanceo dinámico o si vamos a rebalancear\n",
    "                if should_rebalance or i % 5 == 0:  # Verificar cada 5 días para detección de cambios de régimen\n",
    "                    # Extraer factores latentes\n",
    "                    factor_loadings, factor_returns, n_components = self.extract_latent_factors(returns_window)\n",
    "                    \n",
    "                    # Detectar regímenes\n",
    "                    regimes, regime_probs = self.detect_regimes(factor_returns)\n",
    "                    \n",
    "                    # Determinar régimen actual\n",
    "                    current_regime = regimes[-1]\n",
    "                    regime_certainty = np.max(regime_probs[-1])\n",
    "                    \n",
    "                    # MEJORA: Verificar si se debe rebalancear por cambio de régimen\n",
    "                    if self.check_regime_change_rebalance(i, backtest_dates, current_regime, regime_history):\n",
    "                        should_rebalance = True\n",
    "                    \n",
    "                    # MEJORA: Actualizar frecuencia de rebalanceo dinámico\n",
    "                    if should_rebalance:\n",
    "                        dynamic_rebalance_freq = self.calculate_dynamic_rebalance_freq(current_regime, market_vol)\n",
    "                        next_rebalance_date = backtest_dates[min(i + dynamic_rebalance_freq, len(backtest_dates) - 1)]\n",
    "                else:\n",
    "                    # Si no calculamos regímenes, usar el último conocido\n",
    "                    current_regime = regime_history[-1] if regime_history else 0\n",
    "                    regime_certainty = 0.8  # Valor por defecto\n",
    "                \n",
    "                # Rebalancear si es necesario\n",
    "                if should_rebalance:\n",
    "                    # Recalcular factores y regímenes si no lo hicimos antes\n",
    "                    if 'factor_loadings' not in locals():\n",
    "                        factor_loadings, factor_returns, n_components = self.extract_latent_factors(returns_window)\n",
    "                        regimes, regime_probs = self.detect_regimes(factor_returns)\n",
    "                        current_regime = regimes[-1]\n",
    "                        regime_certainty = np.max(regime_probs[-1])\n",
    "                    \n",
    "                    # Calcular retornos esperados\n",
    "                    expected_returns, prediction_confidence = self.predict_expected_returns(\n",
    "                        returns_window, regimes, regime_probs[-1], horizon=10\n",
    "                    )\n",
    "                    \n",
    "                    # MEJORA: Pasar drawdown actual para control de riesgo dinámico\n",
    "                    current_drawdown = drawdown_history[-1]\n",
    "                    \n",
    "                    # Optimizar portafolio\n",
    "                    target_weights = self.optimize_portfolio(\n",
    "                        expected_returns,\n",
    "                        factor_loadings,\n",
    "                        prediction_confidence,\n",
    "                        current_regime,\n",
    "                        regime_certainty,\n",
    "                        date,\n",
    "                        current_weights,\n",
    "                        current_drawdown,\n",
    "                        market_vol\n",
    "                    )\n",
    "                    \n",
    "                    # Simular retraso en la ejecución\n",
    "                    if self.execution_delay > 0 and i + self.execution_delay < len(backtest_dates):\n",
    "                        execution_date = backtest_dates[i + self.execution_delay]\n",
    "                        pending_orders[execution_date] = (date, target_weights)\n",
    "                    else:\n",
    "                        current_weights = target_weights.copy()\n",
    "                    \n",
    "                    # Guardar régimen actual\n",
    "                    regime_history.append(current_regime)\n",
    "                else:\n",
    "                    # Si no rebalanceamos, el régimen es None para ese día\n",
    "                    regime_history.append(None)\n",
    "                \n",
    "                # Calcular costos de posiciones cortas\n",
    "                short_positions = current_weights[current_weights < 0]\n",
    "                short_cost = 0\n",
    "                if not short_positions.empty:\n",
    "                    daily_borrow_cost = self.borrow_cost / 252\n",
    "                    short_cost = (short_positions.abs() * daily_borrow_cost).sum()\n",
    "                \n",
    "                # Guardar apalancamiento actual\n",
    "                current_leverage = np.sum(np.abs(current_weights))\n",
    "                leverage_history.append(current_leverage)\n",
    "                \n",
    "                # Calcular retorno del portafolio para el día siguiente\n",
    "                if i + 1 < len(backtest_dates):\n",
    "                    next_date = backtest_dates[i + 1]\n",
    "                    next_returns = self.returns.loc[next_date]\n",
    "                    \n",
    "                    # Incluir costos de transacción si hubo rebalanceo\n",
    "                    transaction_cost = 0\n",
    "                    if should_rebalance:\n",
    "                        weights_before = weights_history[-1] if weights_history else pd.Series(0, index=current_weights.index)\n",
    "                        turnover = np.sum(np.abs(current_weights - weights_before))\n",
    "                        transaction_cost = turnover * self.transaction_cost\n",
    "                    \n",
    "                    # Calcular retorno del portafolio con costos\n",
    "                    portfolio_return = (current_weights * next_returns).sum() - short_cost - transaction_cost\n",
    "                    portfolio_returns.append(portfolio_return)\n",
    "                    \n",
    "                    # Actualizar valor del portafolio\n",
    "                    portfolio_values.append(portfolio_values[-1] * (1 + portfolio_return))\n",
    "                    \n",
    "                    # Calcular drawdown actual\n",
    "                    peak = max(portfolio_values)\n",
    "                    current_drawdown = 1 - portfolio_values[-1] / peak\n",
    "                    drawdown_history.append(current_drawdown)\n",
    "                    \n",
    "                    # MEJORA: Reducir exposición si drawdown supera el límite\n",
    "                    if self.max_drawdown_limit > 0 and current_drawdown > self.max_drawdown_limit:\n",
    "                        print(f\"ALERTA: Drawdown {current_drawdown:.2%} excede límite {self.max_drawdown_limit:.2%}. Reduciendo exposición.\")\n",
    "                        # Reducir exposición en un 30%\n",
    "                        current_weights = current_weights * 0.7\n",
    "                        # Forzar rebalanceo en próxima fecha\n",
    "                        next_rebalance_date = backtest_dates[min(i + 1, len(backtest_dates) - 1)]\n",
    "                \n",
    "                # Guardar pesos\n",
    "                weights_history.append(current_weights.copy())\n",
    "            \n",
    "            # Crear DataFrame de resultados\n",
    "            performance = pd.DataFrame({\n",
    "                'Portfolio_Value': portfolio_values[:-1],  # Ajustar longitud\n",
    "                'Returns': portfolio_returns,\n",
    "                'Leverage': leverage_history[:-1]  # Ajustar longitud\n",
    "            }, index=backtest_dates[:-1])  # Ajustar fechas\n",
    "            \n",
    "            # Calcular métricas\n",
    "            performance['Cumulative_Returns'] = (1 + performance['Returns']).cumprod()\n",
    "            performance['Drawdown'] = 1 - performance['Cumulative_Returns'] / performance['Cumulative_Returns'].cummax()\n",
    "            \n",
    "            # Guardar resultados adicionales\n",
    "            self.weights_history = pd.DataFrame(weights_history, index=backtest_dates)\n",
    "            \n",
    "            # Convertir regime_history a Series, manejando valores None\n",
    "            valid_regimes = [(i, r) for i, r in enumerate(regime_history) if r is not None]\n",
    "            valid_indices = [backtest_dates[i] for i, _ in valid_regimes]\n",
    "            valid_values = [r for _, r in valid_regimes]\n",
    "            self.regime_history = pd.Series(valid_values, index=valid_indices)\n",
    "            \n",
    "            self.performance = performance\n",
    "            \n",
    "            return performance\n",
    "            \n",
    "        except Exception as e:\n",
    "            logging.error(f\"Error en backtest: {str(e)}\", exc_info=True)\n",
    "            raise\n",
    "    \n",
    "    def calculate_metrics(self, performance=None):\n",
    "        \"\"\"\n",
    "        Calcula métricas de rendimiento de la estrategia.\n",
    "        \n",
    "        Parámetros:\n",
    "        -----------\n",
    "        performance : DataFrame, opcional\n",
    "            Resultados del backtest. Si es None, se usa self.performance.\n",
    "            \n",
    "        Retorna:\n",
    "        --------\n",
    "        metrics : dict\n",
    "            Diccionario con métricas de rendimiento\n",
    "        \"\"\"\n",
    "        try:\n",
    "            if performance is None:\n",
    "                performance = self.performance\n",
    "            \n",
    "            if performance is None or len(performance) == 0:\n",
    "                raise ValueError(\"No hay datos de rendimiento disponibles\")\n",
    "            \n",
    "            # Calcular métricas anualizadas\n",
    "            returns = performance['Returns']\n",
    "            ann_factor = 252\n",
    "            \n",
    "            total_return = performance['Cumulative_Returns'].iloc[-1] - 1\n",
    "            ann_return = (1 + total_return) ** (ann_factor / len(returns)) - 1\n",
    "            ann_volatility = returns.std() * np.sqrt(ann_factor)\n",
    "            sharpe_ratio = ann_return / ann_volatility if ann_volatility > 0 else 0\n",
    "            max_drawdown = performance['Drawdown'].max()\n",
    "            \n",
    "            # Calcular ratio de Sortino (solo considera volatilidad negativa)\n",
    "            negative_returns = returns[returns < 0]\n",
    "            downside_deviation = negative_returns.std() * np.sqrt(ann_factor) if len(negative_returns) > 0 else 0\n",
    "            sortino_ratio = ann_return / downside_deviation if downside_deviation > 0 else 0\n",
    "            \n",
    "            # Calcular ratio de Calmar (retorno anualizado / máximo drawdown)\n",
    "            calmar_ratio = ann_return / max_drawdown if max_drawdown > 0 else 0\n",
    "            \n",
    "            # Estimar turnover anualizado (rotación de cartera)\n",
    "            if hasattr(self, 'weights_history') and len(self.weights_history) > 1:\n",
    "                turnovers = []\n",
    "                for i in range(1, len(self.weights_history)):\n",
    "                    turnover = np.sum(np.abs(self.weights_history.iloc[i] - self.weights_history.iloc[i-1]))\n",
    "                    turnovers.append(turnover)\n",
    "                avg_turnover = np.mean(turnovers) if turnovers else 0\n",
    "                avg_rebalance_freq = self.rebalance_freq  # Usar promedio si tuviéramos frecuencia dinámica\n",
    "                ann_turnover = avg_turnover * (252 / avg_rebalance_freq)\n",
    "            else:\n",
    "                ann_turnover = 0\n",
    "            \n",
    "            # Calcular % de meses positivos\n",
    "            monthly_returns = returns.resample('M').apply(lambda x: (1 + x).prod() - 1)\n",
    "            pct_positive_months = (monthly_returns > 0).mean() if len(monthly_returns) > 0 else 0\n",
    "            \n",
    "            # Calcular métricas realistas\n",
    "            gross_return = ann_return\n",
    "            \n",
    "            # Estimar costos anuales\n",
    "            estimated_transaction_costs = ann_turnover * self.transaction_cost\n",
    "            \n",
    "            # Estimar costos de préstamo para posiciones cortas\n",
    "            if hasattr(self, 'weights_history'):\n",
    "                short_exposure = self.weights_history.apply(lambda x: np.sum(np.maximum(-x, 0)), axis=1).mean()\n",
    "                short_costs = short_exposure * self.borrow_cost\n",
    "            else:\n",
    "                short_costs = 0\n",
    "            \n",
    "            # Retorno neto\n",
    "            net_return = gross_return - estimated_transaction_costs - short_costs\n",
    "            net_sharpe = net_return / ann_volatility if ann_volatility > 0 else 0\n",
    "            \n",
    "            # Calcular apalancamiento promedio\n",
    "            avg_leverage = performance['Leverage'].mean() if 'Leverage' in performance.columns else 0\n",
    "            max_leverage_used = performance['Leverage'].max() if 'Leverage' in performance.columns else 0\n",
    "            \n",
    "            # Calcular características de drawdown\n",
    "            dd = performance['Drawdown']\n",
    "            avg_drawdown = dd.mean()\n",
    "            drawdown_duration = 0\n",
    "            if max_drawdown > 0:\n",
    "                # Encontrar períodos de drawdown\n",
    "                dd_periods = []\n",
    "                in_dd = False\n",
    "                start_idx = 0\n",
    "                for i, val in enumerate(dd):\n",
    "                    if not in_dd and val > 0.01:  # Inicio de drawdown (>1%)\n",
    "                        in_dd = True\n",
    "                        start_idx = i\n",
    "                    elif in_dd and val < 0.01:  # Fin de drawdown\n",
    "                        in_dd = False\n",
    "                        dd_periods.append(i - start_idx)\n",
    "                \n",
    "                # Calcular duración promedio en días\n",
    "                drawdown_duration = np.mean(dd_periods) if dd_periods else 0\n",
    "            \n",
    "            # Recopilar métricas\n",
    "            metrics = {\n",
    "                'Gross Total Return': total_return,\n",
    "                'Gross Annualized Return': gross_return,\n",
    "                'Net Annualized Return': net_return,\n",
    "                'Annualized Volatility': ann_volatility,\n",
    "                'Gross Sharpe Ratio': sharpe_ratio,\n",
    "                'Net Sharpe Ratio': net_sharpe,\n",
    "                'Sortino Ratio': sortino_ratio,\n",
    "                'Calmar Ratio': calmar_ratio,\n",
    "                'Maximum Drawdown': max_drawdown,\n",
    "                'Average Drawdown': avg_drawdown,\n",
    "                'Average Drawdown Duration (days)': drawdown_duration,\n",
    "                'Annualized Turnover': ann_turnover,\n",
    "                'Estimated Transaction Costs': estimated_transaction_costs,\n",
    "                'Estimated Short Costs': short_costs,\n",
    "                'Positive Months (%)': pct_positive_months,\n",
    "                'Average Leverage': avg_leverage,\n",
    "                'Maximum Leverage Used': max_leverage_used,\n",
    "                'Number of Rebalances': len(self.regime_history) if hasattr(self, 'regime_history') else 0\n",
    "            }\n",
    "            \n",
    "            return metrics\n",
    "            \n",
    "        except Exception as e:\n",
    "            logging.error(f\"Error en calculate_metrics: {str(e)}\", exc_info=True)\n",
    "            return {}\n",
    "    \n",
    "    def plot_results(self, save_path='./artifacts/results/figures/'):\n",
    "        \"\"\"\n",
    "        Genera y guarda visualizaciones de los resultados.\n",
    "        \n",
    "        Parámetros:\n",
    "        -----------\n",
    "        save_path : str\n",
    "            Ruta donde guardar las figuras\n",
    "        \"\"\"\n",
    "        try:\n",
    "            if self.performance is None or len(self.performance) == 0:\n",
    "                raise ValueError(\"No hay datos de rendimiento disponibles\")\n",
    "            \n",
    "            # Crear directorio si no existe\n",
    "            os.makedirs(save_path, exist_ok=True)\n",
    "            \n",
    "            # 1. Gráfico de rendimiento acumulado\n",
    "            plt.figure(figsize=(12, 6))\n",
    "            self.performance['Cumulative_Returns'].plot()\n",
    "            plt.title('Rendimiento Acumulado')\n",
    "            plt.xlabel('Fecha')\n",
    "            plt.ylabel('Retorno Acumulado')\n",
    "            plt.grid(True)\n",
    "            plt.savefig(f'{save_path}cumulative_returns.png', dpi=300, bbox_inches='tight')\n",
    "            plt.close()\n",
    "            \n",
    "            # 2. Gráfico de drawdowns\n",
    "            plt.figure(figsize=(12, 6))\n",
    "            self.performance['Drawdown'].plot(color='red')\n",
    "            plt.title('Drawdowns')\n",
    "            plt.xlabel('Fecha')\n",
    "            plt.ylabel('Drawdown')\n",
    "            plt.grid(True)\n",
    "            plt.savefig(f'{save_path}drawdowns.png', dpi=300, bbox_inches='tight')\n",
    "            plt.close()\n",
    "            \n",
    "            # 3. Gráfico de regímenes de mercado\n",
    "            if hasattr(self, 'regime_history') and len(self.regime_history) > 0:\n",
    "                plt.figure(figsize=(12, 6))\n",
    "                self.regime_history.plot(drawstyle='steps', marker='o', markersize=4)\n",
    "                plt.title('Regímenes de Mercado Detectados')\n",
    "                plt.xlabel('Fecha')\n",
    "                plt.ylabel('Régimen')\n",
    "                plt.yticks(range(self.n_regimes))\n",
    "                plt.grid(True)\n",
    "                plt.savefig(f'{save_path}market_regimes.png', dpi=300, bbox_inches='tight')\n",
    "                plt.close()\n",
    "                \n",
    "                # 3b. Superponer regímenes con retornos acumulados\n",
    "                plt.figure(figsize=(14, 8))\n",
    "                ax1 = plt.gca()\n",
    "                self.performance['Cumulative_Returns'].plot(ax=ax1, color='blue')\n",
    "                ax1.set_xlabel('Fecha')\n",
    "                ax1.set_ylabel('Retorno Acumulado', color='blue')\n",
    "                ax1.tick_params(axis='y', labelcolor='blue')\n",
    "                \n",
    "                ax2 = ax1.twinx()\n",
    "                # Solo usar fechas que existen en ambos índices\n",
    "                common_dates = self.regime_history.index.intersection(self.performance.index)\n",
    "                if len(common_dates) > 0:\n",
    "                    self.regime_history.loc[common_dates].plot(ax=ax2, color='red', drawstyle='steps', alpha=0.7, marker='o', markersize=3)\n",
    "                    ax2.set_ylabel('Régimen', color='red')\n",
    "                    ax2.tick_params(axis='y', labelcolor='red')\n",
    "                    ax2.set_yticks(range(self.n_regimes))\n",
    "                \n",
    "                plt.title('Rendimiento vs. Regímenes de Mercado')\n",
    "                plt.grid(True)\n",
    "                plt.savefig(f'{save_path}returns_vs_regimes.png', dpi=300, bbox_inches='tight')\n",
    "                plt.close()\n",
    "            \n",
    "            # 4. Gráfico de exposición a activos a lo largo del tiempo\n",
    "            if hasattr(self, 'weights_history') and len(self.weights_history) > 0:\n",
    "                # Seleccionar los 10 activos con mayor peso promedio absoluto\n",
    "                top_assets = self.weights_history.abs().mean().nlargest(10).index\n",
    "                \n",
    "                plt.figure(figsize=(12, 8))\n",
    "                self.weights_history[top_assets].plot(colormap='viridis')\n",
    "                plt.title('Exposición a los 10 Activos Principales')\n",
    "                plt.xlabel('Fecha')\n",
    "                plt.ylabel('Peso en el Portafolio')\n",
    "                plt.legend(loc='center left', bbox_to_anchor=(1, 0.5))\n",
    "                plt.grid(True)\n",
    "                plt.savefig(f'{save_path}asset_exposure.png', dpi=300, bbox_inches='tight')\n",
    "                plt.close()\n",
    "                \n",
    "                # 5. Heatmap de pesos a lo largo del tiempo\n",
    "                plt.figure(figsize=(14, 10))\n",
    "                sns.heatmap(\n",
    "                    self.weights_history[top_assets].T,\n",
    "                    cmap='RdBu_r',\n",
    "                    center=0,\n",
    "                    robust=True,\n",
    "                    cbar_kws={'label': 'Peso'}\n",
    "                )\n",
    "                plt.title('Evolución de Pesos del Portafolio (Top 10 Activos)')\n",
    "                plt.xlabel('Tiempo')\n",
    "                plt.ylabel('Activo')\n",
    "                plt.savefig(f'{save_path}weights_heatmap.png', dpi=300, bbox_inches='tight')\n",
    "                plt.close()\n",
    "                \n",
    "                # 6. Gráfico de apalancamiento a lo largo del tiempo\n",
    "                leverage = self.weights_history.abs().sum(axis=1)\n",
    "                plt.figure(figsize=(12, 6))\n",
    "                leverage.plot()\n",
    "                plt.axhline(y=self.max_leverage, color='r', linestyle='--', label=f'Límite máximo ({self.max_leverage})')\n",
    "                plt.axhline(y=1.0, color='g', linestyle='--', label='Sin apalancamiento')\n",
    "                plt.title('Apalancamiento del Portafolio')\n",
    "                plt.xlabel('Fecha')\n",
    "                plt.ylabel('Apalancamiento')\n",
    "                plt.legend()\n",
    "                plt.grid(True)\n",
    "                plt.savefig(f'{save_path}leverage.png', dpi=300, bbox_inches='tight')\n",
    "                plt.close()\n",
    "                \n",
    "                # 7. Gráfico de exposición neta y bruta\n",
    "                gross_exposure = self.weights_history.abs().sum(axis=1)\n",
    "                net_exposure = self.weights_history.sum(axis=1)\n",
    "                \n",
    "                plt.figure(figsize=(12, 6))\n",
    "                gross_exposure.plot(label='Exposición Bruta')\n",
    "                net_exposure.plot(label='Exposición Neta')\n",
    "                plt.axhline(y=1.0, color='r', linestyle='--')\n",
    "                plt.title('Exposición Neta y Bruta del Portafolio')\n",
    "                plt.xlabel('Fecha')\n",
    "                plt.ylabel('Exposición')\n",
    "                plt.legend()\n",
    "                plt.grid(True)\n",
    "                plt.savefig(f'{save_path}net_gross_exposure.png', dpi=300, bbox_inches='tight')\n",
    "                plt.close()\n",
    "            \n",
    "            # 8. Distribución de retornos\n",
    "            plt.figure(figsize=(12, 6))\n",
    "            sns.histplot(self.performance['Returns'], kde=True)\n",
    "            plt.title('Distribución de Retornos Diarios')\n",
    "            plt.xlabel('Retorno')\n",
    "            plt.ylabel('Frecuencia')\n",
    "            plt.grid(True)\n",
    "            plt.savefig(f'{save_path}returns_distribution.png', dpi=300, bbox_inches='tight')\n",
    "            plt.close()\n",
    "            \n",
    "            # 9. QQ-Plot de retornos vs distribución normal\n",
    "            plt.figure(figsize=(10, 10))\n",
    "            from scipy import stats\n",
    "            stats.probplot(self.performance['Returns'].dropna(), dist=\"norm\", plot=plt)\n",
    "            plt.title('QQ-Plot de Retornos vs Distribución Normal')\n",
    "            plt.grid(True)\n",
    "            plt.savefig(f'{save_path}qqplot.png', dpi=300, bbox_inches='tight')\n",
    "            plt.close()\n",
    "            \n",
    "            # 10. MEJORA: Gráfico de drawdown vs. apalancamiento\n",
    "            plt.figure(figsize=(12, 6))\n",
    "            ax1 = plt.gca()\n",
    "            self.performance['Drawdown'].plot(ax=ax1, color='red', label='Drawdown')\n",
    "            ax1.set_xlabel('Fecha')\n",
    "            ax1.set_ylabel('Drawdown', color='red')\n",
    "            ax1.tick_params(axis='y', labelcolor='red')\n",
    "            ax1.legend(loc='upper left')\n",
    "            \n",
    "            ax2 = ax1.twinx()\n",
    "            self.performance['Leverage'].plot(ax=ax2, color='blue', label='Apalancamiento')\n",
    "            ax2.set_ylabel('Apalancamiento', color='blue')\n",
    "            ax2.tick_params(axis='y', labelcolor='blue')\n",
    "            ax2.legend(loc='upper right')\n",
    "            \n",
    "            plt.title('Drawdown vs. Apalancamiento')\n",
    "            plt.grid(True)\n",
    "            plt.savefig(f'{save_path}drawdown_vs_leverage.png', dpi=300, bbox_inches='tight')\n",
    "            plt.close()\n",
    "            \n",
    "            # 11. MEJORA: Retornos móviles anualizados\n",
    "            rolling_returns = self.performance['Returns'].rolling(252).apply(lambda x: (1 + x).prod() - 1)\n",
    "            rolling_vol = self.performance['Returns'].rolling(252).std() * np.sqrt(252)\n",
    "            rolling_sharpe = rolling_returns / rolling_vol\n",
    "            \n",
    "            plt.figure(figsize=(12, 6))\n",
    "            rolling_returns.plot()\n",
    "            plt.title('Retorno Anualizado Móvil (252 días)')\n",
    "            plt.xlabel('Fecha')\n",
    "            plt.ylabel('Retorno Anualizado')\n",
    "            plt.grid(True)\n",
    "            plt.savefig(f'{save_path}rolling_returns.png', dpi=300, bbox_inches='tight')\n",
    "            plt.close()\n",
    "            \n",
    "            # 12. MEJORA: Sharpe ratio móvil\n",
    "            plt.figure(figsize=(12, 6))\n",
    "            rolling_sharpe.plot()\n",
    "            plt.axhline(y=0, color='r', linestyle='--')\n",
    "            plt.title('Sharpe Ratio Móvil (252 días)')\n",
    "            plt.xlabel('Fecha')\n",
    "            plt.ylabel('Sharpe Ratio')\n",
    "            plt.grid(True)\n",
    "            plt.savefig(f'{save_path}rolling_sharpe.png', dpi=300, bbox_inches='tight')\n",
    "            plt.close()\n",
    "            \n",
    "            print(f\"Gráficos guardados en {save_path}\")\n",
    "            \n",
    "        except Exception as e:\n",
    "            logging.error(f\"Error en plot_results: {str(e)}\", exc_info=True)\n",
    "    \n",
    "    def run_walk_forward_analysis(self, train_size=0.6, step_size=63, train_lookback=252):\n",
    "        \"\"\"\n",
    "        MEJORA: Ejecuta análisis walk-forward más robusto para evaluar la estrategia.\n",
    "        \n",
    "        Parámetros:\n",
    "        -----------\n",
    "        train_size : float\n",
    "            Proporción de datos a usar para entrenamiento en cada ventana\n",
    "        step_size : int\n",
    "            Tamaño del paso para avanzar la ventana de prueba (en días)\n",
    "        train_lookback : int\n",
    "            Cantidad de días máximos a utilizar en cada ventana de entrenamiento\n",
    "            \n",
    "        Retorna:\n",
    "        --------\n",
    "        wfa_results : DataFrame\n",
    "            Resultados del análisis walk-forward\n",
    "        \"\"\"\n",
    "        try:\n",
    "            # Asegurar que tenemos suficientes datos\n",
    "            if len(self.returns) < self.lookback_window + 2 * step_size:\n",
    "                raise ValueError(\"No hay suficientes datos para análisis walk-forward\")\n",
    "            \n",
    "            # Inicializar resultados\n",
    "            wfa_results = []\n",
    "            dates = self.returns.index\n",
    "            \n",
    "            # Definir ventanas\n",
    "            start_idx = self.lookback_window\n",
    "            while start_idx + step_size < len(dates):\n",
    "                # Limitar la ventana de entrenamiento\n",
    "                train_end_idx = start_idx + int((len(dates) - start_idx) * train_size)\n",
    "                train_start_idx = max(0, train_end_idx - train_lookback)\n",
    "                test_end_idx = min(train_end_idx + step_size, len(dates))\n",
    "                \n",
    "                train_start_date = dates[train_start_idx]\n",
    "                train_end_date = dates[train_end_idx - 1]\n",
    "                test_start_date = dates[train_end_idx]\n",
    "                test_end_date = dates[test_end_idx - 1]\n",
    "                \n",
    "                print(f\"\\nVentana WFA: {test_start_date.strftime('%Y-%m-%d')} a {test_end_date.strftime('%Y-%m-%d')}\")\n",
    "                \n",
    "                # MEJORA: Guardar configuración actual y usar parámetros optimizados para cada ventana\n",
    "                original_n_regimes = self.n_regimes\n",
    "                original_lookback = self.lookback_window\n",
    "                original_regime_method = self.regime_detection_method\n",
    "                \n",
    "                # Ajustar parámetros según la ventana\n",
    "                # Más regímenes para períodos volátiles\n",
    "                train_window_vol = self.returns.loc[train_start_date:train_end_date].std().mean() * np.sqrt(252)\n",
    "                if train_window_vol > 0.25:  # Alta volatilidad\n",
    "                    self.n_regimes = 6\n",
    "                    self.lookback_window = 126  # Ventana más corta\n",
    "                    self.regime_detection_method = 'bgmm'\n",
    "                elif train_window_vol > 0.15:  # Volatilidad media\n",
    "                    self.n_regimes = 5\n",
    "                    self.lookback_window = 189\n",
    "                    self.regime_detection_method = 'bgmm'\n",
    "                else:  # Baja volatilidad\n",
    "                    self.n_regimes = 4\n",
    "                    self.lookback_window = 252\n",
    "                    self.regime_detection_method = 'gmm'\n",
    "                \n",
    "                # Ejecutar backtest en datos de entrenamiento\n",
    "                train_performance = self.backtest(\n",
    "                    start_date=train_start_date,\n",
    "                    end_date=train_end_date\n",
    "                )\n",
    "                \n",
    "                # Guardar pesos óptimos del último rebalanceo\n",
    "                last_weights = self.weights_history.iloc[-1]\n",
    "                \n",
    "                # Considerar costos de transacción al aplicar pesos\n",
    "                initial_turnover = np.sum(np.abs(last_weights))\n",
    "                initial_cost = initial_turnover * self.transaction_cost\n",
    "                \n",
    "                # Inicializar tracking de posiciones cortas\n",
    "                short_positions = last_weights[last_weights < 0]\n",
    "                daily_borrow_cost = self.borrow_cost / 252\n",
    "                \n",
    "                # Ejecutar backtest en datos de prueba con pesos fijos\n",
    "                test_returns = self.returns.loc[test_start_date:test_end_date]\n",
    "                test_portfolio_values = [1.0 - initial_cost]\n",
    "                \n",
    "                for date, returns in test_returns.iterrows():\n",
    "                    # Calcular costo de posiciones cortas\n",
    "                    if not short_positions.empty:\n",
    "                        short_cost = (short_positions.abs() * daily_borrow_cost).sum()\n",
    "                    else:\n",
    "                        short_cost = 0\n",
    "                    \n",
    "                    # Calcular retorno del portafolio con costos\n",
    "                    portfolio_return = (last_weights * returns).sum() - short_cost\n",
    "                    test_portfolio_values.append(test_portfolio_values[-1] * (1 + portfolio_return))\n",
    "                \n",
    "                # Calcular métricas para esta ventana\n",
    "                test_returns_series = pd.Series(\n",
    "                    [test_portfolio_values[i+1]/test_portfolio_values[i] - 1 for i in range(len(test_portfolio_values)-1)],\n",
    "                    index=test_returns.index\n",
    "                )\n",
    "                \n",
    "                test_performance = pd.DataFrame({\n",
    "                    'Returns': test_returns_series,\n",
    "                    'Cumulative_Returns': (1 + test_returns_series).cumprod()\n",
    "                })\n",
    "                \n",
    "                test_performance['Drawdown'] = 1 - test_performance['Cumulative_Returns'] / test_performance['Cumulative_Returns'].cummax()\n",
    "                \n",
    "                # Calcular métricas\n",
    "                total_return = test_performance['Cumulative_Returns'].iloc[-1] - 1\n",
    "                ann_factor = 252\n",
    "                ann_return = (1 + total_return) ** (ann_factor / len(test_returns_series)) - 1\n",
    "                ann_volatility = test_returns_series.std() * np.sqrt(ann_factor)\n",
    "                sharpe_ratio = ann_return / ann_volatility if ann_volatility > 0 else 0\n",
    "                max_drawdown = test_performance['Drawdown'].max()\n",
    "                \n",
    "                # Guardar resultados\n",
    "                wfa_results.append({\n",
    "                    'Test_Start_Date': test_start_date,\n",
    "                    'Test_End_Date': test_end_date,\n",
    "                    'Total_Return': total_return,\n",
    "                    'Annualized_Return': ann_return,\n",
    "                    'Annualized_Volatility': ann_volatility,\n",
    "                    'Sharpe_Ratio': sharpe_ratio,\n",
    "                    'Max_Drawdown': max_drawdown,\n",
    "                    'Initial_Cost': initial_cost,\n",
    "                    'Short_Exposure': short_positions.abs().sum() if not short_positions.empty else 0,\n",
    "                    'Train_Window_Vol': train_window_vol,\n",
    "                    'N_Regimes_Used': self.n_regimes,\n",
    "                    'Lookback_Used': self.lookback_window,\n",
    "                    'Method_Used': self.regime_detection_method\n",
    "                })\n",
    "                \n",
    "                # Restaurar parámetros originales\n",
    "                self.n_regimes = original_n_regimes\n",
    "                self.lookback_window = original_lookback\n",
    "                self.regime_detection_method = original_regime_method\n",
    "                \n",
    "                # Avanzar ventana\n",
    "                start_idx = train_end_idx\n",
    "            \n",
    "            # Convertir resultados a DataFrame\n",
    "            wfa_df = pd.DataFrame(wfa_results)\n",
    "            \n",
    "            # Guardar resultados\n",
    "            wfa_df.to_csv('./artifacts/results/data/walk_forward_analysis.csv', index=False)\n",
    "            \n",
    "            # Calcular métricas agregadas\n",
    "            wfa_metrics = {\n",
    "                'Mean_Sharpe': wfa_df['Sharpe_Ratio'].mean(),\n",
    "                'Median_Sharpe': wfa_df['Sharpe_Ratio'].median(),\n",
    "                'Min_Sharpe': wfa_df['Sharpe_Ratio'].min(),\n",
    "                'Max_Sharpe': wfa_df['Sharpe_Ratio'].max(),\n",
    "                'Mean_Return': wfa_df['Annualized_Return'].mean(),\n",
    "                'Mean_Volatility': wfa_df['Annualized_Volatility'].mean(),\n",
    "                'Mean_Drawdown': wfa_df['Max_Drawdown'].mean(),\n",
    "                'Consistency': (wfa_df['Sharpe_Ratio'] > 0).mean(),\n",
    "                'Mean_Initial_Cost': wfa_df['Initial_Cost'].mean(),\n",
    "                'Mean_Short_Exposure': wfa_df['Short_Exposure'].mean()\n",
    "            }\n",
    "            \n",
    "            # Guardar métricas agregadas\n",
    "            pd.Series(wfa_metrics).to_csv('./artifacts/results/data/walk_forward_metrics.csv')\n",
    "            \n",
    "            # Visualizar resultados\n",
    "            plt.figure(figsize=(12, 8))\n",
    "            plt.subplot(2, 1, 1)\n",
    "            \n",
    "            # Colorear barras por sharpe ratio (rojo si negativo, verde si positivo)\n",
    "            colors = ['green' if sr > 0 else 'red' for sr in wfa_df['Sharpe_Ratio']]\n",
    "            plt.bar(range(len(wfa_df)), wfa_df['Sharpe_Ratio'], color=colors)\n",
    "            \n",
    "            plt.axhline(y=0, color='r', linestyle='-')\n",
    "            plt.title('Sharpe Ratio por Ventana de Prueba')\n",
    "            plt.xticks(range(len(wfa_df)), [d.strftime('%Y-%m') for d in wfa_df['Test_Start_Date']], rotation=45)\n",
    "            plt.grid(True)\n",
    "            \n",
    "            plt.subplot(2, 1, 2)\n",
    "            colors = ['green' if r > 0 else 'red' for r in wfa_df['Total_Return']]\n",
    "            plt.bar(range(len(wfa_df)), wfa_df['Total_Return'], color=colors)\n",
    "            plt.axhline(y=0, color='r', linestyle='-')\n",
    "            plt.title('Retorno Total por Ventana de Prueba')\n",
    "            plt.xticks(range(len(wfa_df)), [d.strftime('%Y-%m') for d in wfa_df['Test_Start_Date']], rotation=45)\n",
    "            plt.grid(True)\n",
    "            \n",
    "            plt.tight_layout()\n",
    "            plt.savefig('./artifacts/results/figures/walk_forward_results.png', dpi=300, bbox_inches='tight')\n",
    "            plt.close()\n",
    "            \n",
    "            return wfa_df\n",
    "            \n",
    "        except Exception as e:\n",
    "            logging.error(f\"Error en run_walk_forward_analysis: {str(e)}\", exc_info=True)\n",
    "            return pd.DataFrame()\n",
    "\n",
    "# Ejecutar la estrategia\n",
    "if __name__ == \"__main__\":\n",
    "    try:\n",
    "        # Inicializar estrategia con parámetros mejorados\n",
    "        strategy = AdaptiveMultifactorStrategy(\n",
    "            start_date='2015-01-01',\n",
    "            end_date='2025-01-01',\n",
    "            lookback_window=189,                # Más corto que 252 para adaptación más rápida\n",
    "            regime_window=63,                   # Más corto para detectar cambios de régimen\n",
    "            n_regimes=5,                        # Más regímenes para mejor granularidad\n",
    "            rebalance_freq=5,                   # 5 dias de trading\n",
    "            vol_target=0.10,                    # 10% anualizado\n",
    "            max_leverage=1.5,                   # Límite de apalancamiento\n",
    "            transaction_cost=0.0005,            # 5 puntos básicos\n",
    "            market_impact=0.1,                  # Como factor de volatilidad diaria\n",
    "            borrow_cost=0.0002,                 # 20 puntos básicos anualizados\n",
    "            execution_delay=1,                  # 1 día de retraso\n",
    "            use_point_in_time=False,            # No usar point-in-time data\n",
    "            max_drawdown_limit=0.20,            # Limitar drawdown al 20%\n",
    "            dynamic_vol_scaling=True,           # Escalar volatilidad dinámicamente\n",
    "            risk_targeting=True,                # Usar targeting de riesgo basado en régimen\n",
    "            regime_detection_method='bgmm'      # Usar Bayesian GMM para detección de regímenes\n",
    "        )\n",
    "        \n",
    "        # Ejecutar backtest\n",
    "        performance = strategy.backtest()\n",
    "        \n",
    "        # Calcular métricas\n",
    "        metrics = strategy.calculate_metrics()\n",
    "        print(\"\\nMétricas de Rendimiento:\")\n",
    "        for key, value in metrics.items():\n",
    "            print(f\"{key}: {value:.4f}\")\n",
    "        \n",
    "        # Generar visualizaciones\n",
    "        strategy.plot_results()\n",
    "        \n",
    "        # Ejecutar análisis walk-forward\n",
    "        wfa_results = strategy.run_walk_forward_analysis(train_size=0.6, step_size=63, train_lookback=252)\n",
    "        \n",
    "        print(\"\\nAnálisis completado. Todos los resultados guardados en ./artifacts/results/\")\n",
    "        \n",
    "    except Exception as e:\n",
    "        logging.error(f\"Error en la ejecución principal: {str(e)}\", exc_info=True)\n",
    "        print(f\"Error: {str(e)}. Ver ./artifacts/errors.txt para más detalles.\")"
   ]
  },
  {
   "cell_type": "code",
   "execution_count": null,
   "id": "40459837-6f4f-4a0c-abdd-8a67ce36ba35",
   "metadata": {},
   "outputs": [],
   "source": [
    "print(\"DONE\")"
   ]
  },
  {
   "cell_type": "code",
   "execution_count": null,
   "id": "3df361ee-d3bd-4472-802d-ec5df8a23376",
   "metadata": {},
   "outputs": [],
   "source": []
  }
 ],
 "metadata": {
  "kernelspec": {
   "display_name": "Python 3 (ipykernel)",
   "language": "python",
   "name": "python3"
  },
  "language_info": {
   "codemirror_mode": {
    "name": "ipython",
    "version": 3
   },
   "file_extension": ".py",
   "mimetype": "text/x-python",
   "name": "python",
   "nbconvert_exporter": "python",
   "pygments_lexer": "ipython3",
   "version": "3.11.4"
  }
 },
 "nbformat": 4,
 "nbformat_minor": 5
}
